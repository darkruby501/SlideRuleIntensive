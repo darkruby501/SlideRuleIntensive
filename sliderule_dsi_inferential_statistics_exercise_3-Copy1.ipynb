{
 "cells": [
  {
   "cell_type": "markdown",
   "metadata": {},
   "source": [
    "## Hospital readmissions data analysis and recommendations for reduction\n",
    "\n",
    "### Background\n",
    "In October 2012, the US government's Center for Medicare and Medicaid Services (CMS) began reducing Medicare payments for Inpatient Prospective Payment System hospitals with excess readmissions. Excess readmissions are measured by a ratio, by dividing a hospital’s number of “predicted” 30-day readmissions for heart attack, heart failure, and pneumonia by the number that would be “expected,” based on an average hospital with similar patients. A ratio greater than 1 indicates excess readmissions.\n",
    "\n",
    "### Exercise overview\n",
    "\n",
    "In this exercise, you will:\n",
    "+ critique a preliminary analysis of readmissions data and recommendations (provided below) for reducing the readmissions rate\n",
    "+ construct a statistically sound analysis and make recommendations of your own \n",
    "\n",
    "More instructions provided below. Include your work **in this notebook and submit to your Github account**. \n",
    "\n",
    "### Resources\n",
    "+ Data source: https://data.medicare.gov/Hospital-Compare/Hospital-Readmission-Reduction/9n3s-kdb3\n",
    "+ More information: http://www.cms.gov/Medicare/medicare-fee-for-service-payment/acuteinpatientPPS/readmissions-reduction-program.html\n",
    "+ Markdown syntax: http://nestacms.com/docs/creating-content/markdown-cheat-sheet\n",
    "****"
   ]
  },
  {
   "cell_type": "code",
   "execution_count": 1,
   "metadata": {
    "collapsed": true
   },
   "outputs": [],
   "source": [
    "import pandas as pd\n",
    "import numpy as np\n",
    "import matplotlib.pyplot as plt\n",
    "import bokeh.plotting as bkp\n",
    "from mpl_toolkits.axes_grid1 import make_axes_locatable\n",
    "%matplotlib inline"
   ]
  },
  {
   "cell_type": "code",
   "execution_count": 2,
   "metadata": {
    "collapsed": true
   },
   "outputs": [],
   "source": [
    "# read in readmissions data provided\n",
    "hospital_read_df = pd.read_csv('data/cms_hospital_readmissions.csv')"
   ]
  },
  {
   "cell_type": "code",
   "execution_count": 3,
   "metadata": {
    "collapsed": false
   },
   "outputs": [
    {
     "name": "stdout",
     "output_type": "stream",
     "text": [
      "<class 'pandas.core.frame.DataFrame'>\n",
      "Int64Index: 16860 entries, 0 to 16859\n",
      "Data columns (total 12 columns):\n",
      "Hospital Name                 16860 non-null object\n",
      "Provider Number               16860 non-null int64\n",
      "State                         16860 non-null object\n",
      "Measure Name                  16860 non-null object\n",
      "Number of Discharges          16860 non-null object\n",
      "Footnote                      3129 non-null float64\n",
      "Excess Readmission Ratio      13731 non-null float64\n",
      "Predicted Readmission Rate    13731 non-null float64\n",
      "Expected Readmission Rate     13731 non-null float64\n",
      "Number of Readmissions        11497 non-null float64\n",
      "Start Date                    16860 non-null object\n",
      "End Date                      16860 non-null object\n",
      "dtypes: float64(5), int64(1), object(6)\n",
      "memory usage: 1.7+ MB\n"
     ]
    }
   ],
   "source": [
    "hospital_read_df.info()"
   ]
  },
  {
   "cell_type": "code",
   "execution_count": 21,
   "metadata": {
    "collapsed": false
   },
   "outputs": [
    {
     "data": {
      "text/html": [
       "<div>\n",
       "<table border=\"1\" class=\"dataframe\">\n",
       "  <thead>\n",
       "    <tr style=\"text-align: right;\">\n",
       "      <th></th>\n",
       "      <th>Hospital Name</th>\n",
       "      <th>Provider Number</th>\n",
       "      <th>State</th>\n",
       "      <th>Measure Name</th>\n",
       "      <th>Number of Discharges</th>\n",
       "      <th>Footnote</th>\n",
       "      <th>Excess Readmission Ratio</th>\n",
       "      <th>Predicted Readmission Rate</th>\n",
       "      <th>Expected Readmission Rate</th>\n",
       "      <th>Number of Readmissions</th>\n",
       "      <th>Start Date</th>\n",
       "      <th>End Date</th>\n",
       "    </tr>\n",
       "  </thead>\n",
       "  <tbody>\n",
       "    <tr>\n",
       "      <th>0</th>\n",
       "      <td>FROEDTERT MEMORIAL LUTHERAN HOSPITAL</td>\n",
       "      <td>520177</td>\n",
       "      <td>WI</td>\n",
       "      <td>READM-30-HIP-KNEE-HRRP</td>\n",
       "      <td>242</td>\n",
       "      <td>NaN</td>\n",
       "      <td>1.9095</td>\n",
       "      <td>10.8</td>\n",
       "      <td>5.6</td>\n",
       "      <td>38</td>\n",
       "      <td>07/01/2010</td>\n",
       "      <td>06/30/2013</td>\n",
       "    </tr>\n",
       "    <tr>\n",
       "      <th>1</th>\n",
       "      <td>PROVIDENCE HOSPITAL</td>\n",
       "      <td>90006</td>\n",
       "      <td>DC</td>\n",
       "      <td>READM-30-HIP-KNEE-HRRP</td>\n",
       "      <td>247</td>\n",
       "      <td>NaN</td>\n",
       "      <td>1.7521</td>\n",
       "      <td>9.2</td>\n",
       "      <td>5.3</td>\n",
       "      <td>33</td>\n",
       "      <td>07/01/2010</td>\n",
       "      <td>06/30/2013</td>\n",
       "    </tr>\n",
       "    <tr>\n",
       "      <th>2</th>\n",
       "      <td>BEAUFORT COUNTY MEMORIAL HOSPITAL</td>\n",
       "      <td>420067</td>\n",
       "      <td>SC</td>\n",
       "      <td>READM-30-HIP-KNEE-HRRP</td>\n",
       "      <td>586</td>\n",
       "      <td>NaN</td>\n",
       "      <td>1.5836</td>\n",
       "      <td>7.6</td>\n",
       "      <td>4.8</td>\n",
       "      <td>53</td>\n",
       "      <td>07/01/2010</td>\n",
       "      <td>06/30/2013</td>\n",
       "    </tr>\n",
       "    <tr>\n",
       "      <th>3</th>\n",
       "      <td>ADVOCATE CHRIST HOSPITAL &amp; MEDICAL CENTER</td>\n",
       "      <td>140208</td>\n",
       "      <td>IL</td>\n",
       "      <td>READM-30-HIP-KNEE-HRRP</td>\n",
       "      <td>965</td>\n",
       "      <td>NaN</td>\n",
       "      <td>1.5760</td>\n",
       "      <td>9.0</td>\n",
       "      <td>5.7</td>\n",
       "      <td>95</td>\n",
       "      <td>07/01/2010</td>\n",
       "      <td>06/30/2013</td>\n",
       "    </tr>\n",
       "    <tr>\n",
       "      <th>4</th>\n",
       "      <td>BRAZOSPORT REGIONAL HEALTH SYSTEM</td>\n",
       "      <td>450072</td>\n",
       "      <td>TX</td>\n",
       "      <td>READM-30-HIP-KNEE-HRRP</td>\n",
       "      <td>149</td>\n",
       "      <td>NaN</td>\n",
       "      <td>1.5308</td>\n",
       "      <td>8.2</td>\n",
       "      <td>5.4</td>\n",
       "      <td>20</td>\n",
       "      <td>07/01/2010</td>\n",
       "      <td>06/30/2013</td>\n",
       "    </tr>\n",
       "  </tbody>\n",
       "</table>\n",
       "</div>"
      ],
      "text/plain": [
       "                               Hospital Name  Provider Number State  \\\n",
       "0       FROEDTERT MEMORIAL LUTHERAN HOSPITAL           520177    WI   \n",
       "1                        PROVIDENCE HOSPITAL            90006    DC   \n",
       "2          BEAUFORT COUNTY MEMORIAL HOSPITAL           420067    SC   \n",
       "3  ADVOCATE CHRIST HOSPITAL & MEDICAL CENTER           140208    IL   \n",
       "4          BRAZOSPORT REGIONAL HEALTH SYSTEM           450072    TX   \n",
       "\n",
       "             Measure Name Number of Discharges  Footnote  \\\n",
       "0  READM-30-HIP-KNEE-HRRP                  242       NaN   \n",
       "1  READM-30-HIP-KNEE-HRRP                  247       NaN   \n",
       "2  READM-30-HIP-KNEE-HRRP                  586       NaN   \n",
       "3  READM-30-HIP-KNEE-HRRP                  965       NaN   \n",
       "4  READM-30-HIP-KNEE-HRRP                  149       NaN   \n",
       "\n",
       "   Excess Readmission Ratio  Predicted Readmission Rate  \\\n",
       "0                    1.9095                        10.8   \n",
       "1                    1.7521                         9.2   \n",
       "2                    1.5836                         7.6   \n",
       "3                    1.5760                         9.0   \n",
       "4                    1.5308                         8.2   \n",
       "\n",
       "   Expected Readmission Rate  Number of Readmissions  Start Date    End Date  \n",
       "0                        5.6                      38  07/01/2010  06/30/2013  \n",
       "1                        5.3                      33  07/01/2010  06/30/2013  \n",
       "2                        4.8                      53  07/01/2010  06/30/2013  \n",
       "3                        5.7                      95  07/01/2010  06/30/2013  \n",
       "4                        5.4                      20  07/01/2010  06/30/2013  "
      ]
     },
     "execution_count": 21,
     "metadata": {},
     "output_type": "execute_result"
    }
   ],
   "source": [
    "hospital_read_df.head()"
   ]
  },
  {
   "cell_type": "code",
   "execution_count": 18,
   "metadata": {
    "collapsed": false,
    "scrolled": false
   },
   "outputs": [
    {
     "data": {
      "text/html": [
       "<div>\n",
       "<table border=\"1\" class=\"dataframe\">\n",
       "  <thead>\n",
       "    <tr style=\"text-align: right;\">\n",
       "      <th></th>\n",
       "      <th>Number of Discharges</th>\n",
       "      <th>Excess Readmission Ratio</th>\n",
       "      <th>Predicted Readmission Rate</th>\n",
       "      <th>Expected Readmission Rate</th>\n",
       "    </tr>\n",
       "  </thead>\n",
       "  <tbody>\n",
       "    <tr>\n",
       "      <th>count</th>\n",
       "      <td>11578.000000</td>\n",
       "      <td>11497.000000</td>\n",
       "      <td>11497.000000</td>\n",
       "      <td>11497.000000</td>\n",
       "    </tr>\n",
       "    <tr>\n",
       "      <th>mean</th>\n",
       "      <td>362.909397</td>\n",
       "      <td>1.007504</td>\n",
       "      <td>17.984292</td>\n",
       "      <td>17.865695</td>\n",
       "    </tr>\n",
       "    <tr>\n",
       "      <th>std</th>\n",
       "      <td>309.176945</td>\n",
       "      <td>0.091964</td>\n",
       "      <td>5.487651</td>\n",
       "      <td>5.240749</td>\n",
       "    </tr>\n",
       "    <tr>\n",
       "      <th>min</th>\n",
       "      <td>0.000000</td>\n",
       "      <td>0.549500</td>\n",
       "      <td>2.700000</td>\n",
       "      <td>3.900000</td>\n",
       "    </tr>\n",
       "    <tr>\n",
       "      <th>25%</th>\n",
       "      <td>157.000000</td>\n",
       "      <td>0.952600</td>\n",
       "      <td>16.300000</td>\n",
       "      <td>16.600000</td>\n",
       "    </tr>\n",
       "    <tr>\n",
       "      <th>50%</th>\n",
       "      <td>280.000000</td>\n",
       "      <td>1.003500</td>\n",
       "      <td>19.000000</td>\n",
       "      <td>19.000000</td>\n",
       "    </tr>\n",
       "    <tr>\n",
       "      <th>75%</th>\n",
       "      <td>472.750000</td>\n",
       "      <td>1.058100</td>\n",
       "      <td>21.500000</td>\n",
       "      <td>21.400000</td>\n",
       "    </tr>\n",
       "    <tr>\n",
       "      <th>max</th>\n",
       "      <td>6793.000000</td>\n",
       "      <td>1.909500</td>\n",
       "      <td>32.800000</td>\n",
       "      <td>28.000000</td>\n",
       "    </tr>\n",
       "  </tbody>\n",
       "</table>\n",
       "</div>"
      ],
      "text/plain": [
       "       Number of Discharges  Excess Readmission Ratio  \\\n",
       "count          11578.000000              11497.000000   \n",
       "mean             362.909397                  1.007504   \n",
       "std              309.176945                  0.091964   \n",
       "min                0.000000                  0.549500   \n",
       "25%              157.000000                  0.952600   \n",
       "50%              280.000000                  1.003500   \n",
       "75%              472.750000                  1.058100   \n",
       "max             6793.000000                  1.909500   \n",
       "\n",
       "       Predicted Readmission Rate  Expected Readmission Rate  \n",
       "count                11497.000000               11497.000000  \n",
       "mean                    17.984292                  17.865695  \n",
       "std                      5.487651                   5.240749  \n",
       "min                      2.700000                   3.900000  \n",
       "25%                     16.300000                  16.600000  \n",
       "50%                     19.000000                  19.000000  \n",
       "75%                     21.500000                  21.400000  \n",
       "max                     32.800000                  28.000000  "
      ]
     },
     "execution_count": 18,
     "metadata": {},
     "output_type": "execute_result"
    }
   ],
   "source": [
    "a = clean_hospital_read_df[['Number of Discharges','Excess Readmission Ratio','Predicted Readmission Rate','Expected Readmission Rate']].sort_values(by='Number of Discharges')\n",
    "a[a['Number of Discharges']>0]\n",
    "a.describe()"
   ]
  },
  {
   "cell_type": "code",
   "execution_count": 19,
   "metadata": {
    "collapsed": false
   },
   "outputs": [
    {
     "data": {
      "text/html": [
       "<div>\n",
       "<table border=\"1\" class=\"dataframe\">\n",
       "  <thead>\n",
       "    <tr style=\"text-align: right;\">\n",
       "      <th></th>\n",
       "      <th>Number of Discharges</th>\n",
       "      <th>Excess Readmission Ratio</th>\n",
       "      <th>Predicted Readmission Rate</th>\n",
       "      <th>Expected Readmission Rate</th>\n",
       "    </tr>\n",
       "  </thead>\n",
       "  <tbody>\n",
       "    <tr>\n",
       "      <th>Number of Discharges</th>\n",
       "      <td>1.000000</td>\n",
       "      <td>-0.097398</td>\n",
       "      <td>-0.135163</td>\n",
       "      <td>-0.131091</td>\n",
       "    </tr>\n",
       "    <tr>\n",
       "      <th>Excess Readmission Ratio</th>\n",
       "      <td>-0.097398</td>\n",
       "      <td>1.000000</td>\n",
       "      <td>0.200039</td>\n",
       "      <td>-0.031104</td>\n",
       "    </tr>\n",
       "    <tr>\n",
       "      <th>Predicted Readmission Rate</th>\n",
       "      <td>-0.135163</td>\n",
       "      <td>0.200039</td>\n",
       "      <td>1.000000</td>\n",
       "      <td>0.965420</td>\n",
       "    </tr>\n",
       "    <tr>\n",
       "      <th>Expected Readmission Rate</th>\n",
       "      <td>-0.131091</td>\n",
       "      <td>-0.031104</td>\n",
       "      <td>0.965420</td>\n",
       "      <td>1.000000</td>\n",
       "    </tr>\n",
       "  </tbody>\n",
       "</table>\n",
       "</div>"
      ],
      "text/plain": [
       "                            Number of Discharges  Excess Readmission Ratio  \\\n",
       "Number of Discharges                    1.000000                 -0.097398   \n",
       "Excess Readmission Ratio               -0.097398                  1.000000   \n",
       "Predicted Readmission Rate             -0.135163                  0.200039   \n",
       "Expected Readmission Rate              -0.131091                 -0.031104   \n",
       "\n",
       "                            Predicted Readmission Rate  \\\n",
       "Number of Discharges                         -0.135163   \n",
       "Excess Readmission Ratio                      0.200039   \n",
       "Predicted Readmission Rate                    1.000000   \n",
       "Expected Readmission Rate                     0.965420   \n",
       "\n",
       "                            Expected Readmission Rate  \n",
       "Number of Discharges                        -0.131091  \n",
       "Excess Readmission Ratio                    -0.031104  \n",
       "Predicted Readmission Rate                   0.965420  \n",
       "Expected Readmission Rate                    1.000000  "
      ]
     },
     "execution_count": 19,
     "metadata": {},
     "output_type": "execute_result"
    }
   ],
   "source": [
    "a.corr()"
   ]
  },
  {
   "cell_type": "code",
   "execution_count": 8,
   "metadata": {
    "collapsed": false
   },
   "outputs": [
    {
     "data": {
      "text/plain": [
       "Hospital Name                 0.000000\n",
       "Provider Number               0.000000\n",
       "State                         0.000000\n",
       "Measure Name                  0.000000\n",
       "Number of Discharges          0.000000\n",
       "Footnote                      0.814413\n",
       "Excess Readmission Ratio      0.185587\n",
       "Predicted Readmission Rate    0.185587\n",
       "Expected Readmission Rate     0.185587\n",
       "Number of Readmissions        0.318090\n",
       "Start Date                    0.000000\n",
       "End Date                      0.000000\n",
       "dtype: float64"
      ]
     },
     "execution_count": 8,
     "metadata": {},
     "output_type": "execute_result"
    }
   ],
   "source": [
    "hospital_read_df.isnull().sum(axis=0)/hospital_read_df.shape[0]"
   ]
  },
  {
   "cell_type": "markdown",
   "metadata": {},
   "source": [
    "****\n",
    "## Preliminary analysis"
   ]
  },
  {
   "cell_type": "code",
   "execution_count": 11,
   "metadata": {
    "collapsed": false
   },
   "outputs": [
    {
     "name": "stderr",
     "output_type": "stream",
     "text": [
      "c:\\Anaconda3\\lib\\site-packages\\pandas\\core\\indexing.py:426: SettingWithCopyWarning: \n",
      "A value is trying to be set on a copy of a slice from a DataFrame.\n",
      "Try using .loc[row_indexer,col_indexer] = value instead\n",
      "\n",
      "See the caveats in the documentation: http://pandas.pydata.org/pandas-docs/stable/indexing.html#indexing-view-versus-copy\n",
      "  self.obj[item] = s\n",
      "c:\\Anaconda3\\lib\\site-packages\\ipykernel\\__main__.py:4: FutureWarning: sort(columns=....) is deprecated, use sort_values(by=.....)\n"
     ]
    }
   ],
   "source": [
    "# deal with missing and inconvenient portions of data \n",
    "clean_hospital_read_df = hospital_read_df[(hospital_read_df['Number of Discharges'] != 'Not Available')]\n",
    "clean_hospital_read_df.loc[:, 'Number of Discharges'] = clean_hospital_read_df['Number of Discharges'].astype(int)\n",
    "clean_hospital_read_df = clean_hospital_read_df.sort('Number of Discharges')"
   ]
  },
  {
   "cell_type": "code",
   "execution_count": 12,
   "metadata": {
    "collapsed": false,
    "scrolled": false
   },
   "outputs": [
    {
     "data": {
      "image/png": "[encoded data removed]",
      "text/plain": [
       "<matplotlib.figure.Figure at 0xad87048>"
      ]
     },
     "metadata": {},
     "output_type": "display_data"
    }
   ],
   "source": [
    "# generate a scatterplot for number of discharges vs. excess rate of readmissions\n",
    "# lists work better with matplotlib scatterplot function\n",
    "x = [a for a in clean_hospital_read_df['Number of Discharges'][81:-3]]\n",
    "y = list(clean_hospital_read_df['Excess Readmission Ratio'][81:-3])\n",
    "\n",
    "fig, ax = plt.subplots(figsize=(8,5))\n",
    "ax.scatter(x, y,alpha=0.10)\n",
    "\n",
    "ax.fill_between([0,350], 1.15, 2, facecolor='red', alpha = .15, interpolate=True)\n",
    "ax.fill_between([800,2500], .5, .95, facecolor='green', alpha = .15, interpolate=True)\n",
    "\n",
    "ax.set_xlim([0, max(x)])\n",
    "ax.set_xlabel('Number of discharges', fontsize=12)\n",
    "ax.set_ylabel('Excess rate of readmissions', fontsize=12)\n",
    "ax.set_title('Scatterplot of number of discharges vs. excess rate of readmissions', fontsize=14)\n",
    "\n",
    "ax.grid(True)\n",
    "fig.tight_layout()"
   ]
  },
  {
   "cell_type": "markdown",
   "metadata": {},
   "source": [
    "****\n",
    "\n",
    "## Preliminary report\n",
    "\n",
    "**A. Initial observations based on the plot above**\n",
    "+ Overall, rate of readmissions is trending down with increasing number of discharges\n",
    "+ With lower number of discharges, there is a greater incidence of excess rate of readmissions (area shaded red)\n",
    "+ With higher number of discharges, there is a greater incidence of lower rates of readmissions (area shaded green) \n",
    "\n",
    "**B. Statistics**\n",
    "+ In hospitals/facilities with number of discharges < 100, mean excess readmission rate is 1.023 and 63% have excess readmission rate greater than 1 \n",
    "+ In hospitals/facilities with number of discharges > 1000, mean excess readmission rate is 0.978 and 44% have excess readmission rate greater than 1 \n",
    "\n",
    "**C. Conclusions**\n",
    "+ There is a significant correlation between hospital capacity (number of discharges) and readmission rates. \n",
    "+ Smaller hospitals/facilities may be lacking necessary resources to ensure quality care and prevent complications that lead to readmissions.\n",
    "\n",
    "**D. Regulatory policy recommendations**\n",
    "+ Hospitals/facilties with small capacity (< 300) should be required to demonstrate upgraded resource allocation for quality care to continue operation.\n",
    "+ Directives and incentives should be provided for consolidation of hospitals and facilities to have a smaller number of them with higher capacity and number of discharges."
   ]
  },
  {
   "cell_type": "markdown",
   "metadata": {},
   "source": [
    "****\n",
    "\n",
    "## Exercise\n",
    "\n",
    "Include your work on the following **in this notebook and submit to your Github account**. \n",
    "\n",
    "A. Do you agree with the above analysis and recommendations? Why or why not?\n",
    "   \n",
    "B. Provide support for your arguments and your own recommendations with a statistically sound analysis:\n",
    "\n",
    "   1. Setup an appropriate hypothesis test.\n",
    "   2. Compute and report the observed significance value (or p-value).\n",
    "   3. Report statistical significance for $\\alpha$ = .01. \n",
    "   4. Discuss statistical significance and practical significance\n",
    "\n",
    "\n",
    "\n",
    "You can compose in notebook cells using Markdown: \n",
    "+ In the control panel at the top, choose Cell > Cell Type > Markdown\n",
    "+ Markdown syntax: http://nestacms.com/docs/creating-content/markdown-cheat-sheet\n",
    "\n",
    "****"
   ]
  },
  {
   "cell_type": "markdown",
   "metadata": {},
   "source": [
    "## A\n",
    "\n",
    "The analysis given is not obviously correct to me. The plot above is difficult to call, with any trend being slight, the distribution of points being uneven, and the points having strong heteroscedascity (non-contistent variation). There is much higher variation at lower discharge levels. \n",
    "\n",
    "Similarly, the quoted difference in means is small.\n",
    "\n",
    "To test the claims, a proper statistical test is needed. "
   ]
  },
  {
   "cell_type": "code",
   "execution_count": null,
   "metadata": {
    "collapsed": true
   },
   "outputs": [],
   "source": []
  },
  {
   "cell_type": "code",
   "execution_count": null,
   "metadata": {
    "collapsed": true
   },
   "outputs": [],
   "source": []
  },
  {
   "cell_type": "code",
   "execution_count": null,
   "metadata": {
    "collapsed": true
   },
   "outputs": [],
   "source": []
  },
  {
   "cell_type": "markdown",
   "metadata": {
    "collapsed": true
   },
   "source": [
    "## A.\n",
    "\n",
    "I do not agree with the analysis given. For any given hospital each readmission can be considered result of a single random variable with p equal to the true admission rate. The readmission rate for a hospital with n patients is the number of readmission from n samplings of the random variable. For smaller n, we expect there to be greater variation in the number of readmissions. For larger n, the proportion will better approach the \"true value\". This is the same as with coin tosses. With a smaller number, the proportion may vary from 50/50, but as n approaches infinity, the proportion approaches the theoretical value.\n",
    "\n",
    "In short, statistically we should expect smaller hospitals to show greater variation in the proportion of readmissions. This does not indicate that they are performing poorly relative to larger hospitals."
   ]
  },
  {
   "cell_type": "markdown",
   "metadata": {
    "collapsed": true
   },
   "source": [
    "## A.\n",
    "\n",
    "I do not agree with the analysis given. For any given hospital each readmission can be considered result of a single random variable with p equal to the true admission rate. The readmission rate for a hospital with n patients is the number of readmission from n samplings of the random variable. For smaller n, we expect there to be greater variation in the number of readmissions. For larger n, the proportion will better approach the \"true value\". This is the same as with coin tosses. With a smaller number, the proportion may vary from 50/50, but as n approaches infinity, the proportion approaches the theoretical value.\n",
    "\n",
    "In short, statistically we should expect smaller hospitals to show greater variation in the proportion of readmissions. This does not indicate that they are performing poorly relative to larger hospitals."
   ]
  },
  {
   "cell_type": "markdown",
   "metadata": {},
   "source": [
    "## B.\n"
   ]
  },
  {
   "cell_type": "markdown",
   "metadata": {},
   "source": [
    "## 1. Appropriate Hypothesis Test\n",
    "H0: Large hospitals (number of discharges > 1000) and small hospitals (number of discharges < 100) have the same proportion of hospitals with excess readmissions. p1 - p2 = 0\n",
    "\n",
    "H1: Large hospitals (number of discharges > 1000) have a lower proportion of excess readmissions rate than small hospitals (number of discharges < 100). p1 - p2 < 0\n",
    "\n",
    "Sampling distributions are independent.\n",
    "\n",
    "Smaller hospitals have a higher variance but same true rate.\n",
    "\n",
    "Okay, lets test the proportions. "
   ]
  },
  {
   "cell_type": "code",
   "execution_count": 22,
   "metadata": {
    "collapsed": false
   },
   "outputs": [
    {
     "data": {
      "text/plain": [
       "0.51661736558204285"
      ]
     },
     "execution_count": 22,
     "metadata": {},
     "output_type": "execute_result"
    }
   ],
   "source": [
    "#Check success-failure condition\n",
    "hospitals = clean_hospital_read_df[81:-3]\n",
    "p_est = sum(hospitals['Excess Readmission Ratio']>1)/len(hospitals['Excess Readmission Ratio'])\n",
    "p_est\n"
   ]
  },
  {
   "cell_type": "markdown",
   "metadata": {},
   "source": [
    "Assuming all hosptials have the same proportion,i.e. null hypothesis is true, that proportion is 0.517"
   ]
  },
  {
   "cell_type": "code",
   "execution_count": 24,
   "metadata": {
    "collapsed": false
   },
   "outputs": [
    {
     "name": "stdout",
     "output_type": "stream",
     "text": [
      "n_small =  1188\n",
      "n_large =  460\n",
      "613.741430311\n",
      "574.258569689\n",
      "237.643988168\n",
      "222.356011832\n"
     ]
    }
   ],
   "source": [
    "#We can check the success-failure condition.\n",
    "n_small = len(hospitals[hospitals['Number of Discharges']<100])\n",
    "n_large = len(hospitals[hospitals['Number of Discharges']>1000])\n",
    "print('n_small = ',n_small)\n",
    "print('n_large = ',n_large)\n",
    "\n",
    "print(p_est*n_small)\n",
    "print((1-p_est)*n_small)\n",
    "print(p_est*n_large)\n",
    "print((1-p_est)*n_large)"
   ]
  },
  {
   "cell_type": "markdown",
   "metadata": {},
   "source": [
    "All values > 10, so success-failure condition is met."
   ]
  },
  {
   "cell_type": "code",
   "execution_count": 82,
   "metadata": {
    "collapsed": false
   },
   "outputs": [
    {
     "name": "stdout",
     "output_type": "stream",
     "text": [
      "p_small =  0.6321548821548821\n",
      "p_large =  0.44565217391304346\n"
     ]
    },
    {
     "name": "stderr",
     "output_type": "stream",
     "text": [
      "c:\\Anaconda3\\lib\\site-packages\\pandas\\core\\frame.py:1997: UserWarning: Boolean Series key will be reindexed to match DataFrame index.\n",
      "  \"DataFrame index.\", UserWarning)\n"
     ]
    }
   ],
   "source": [
    "#Point Estimate:\n",
    "hospitals_small = hospitals[hospitals['Number of Discharges']<100]\n",
    "hospitals_large = hospitals[(hospitals['Number of Discharges']>1000)]#&(hospitals['Predicted Readmission Rate']>10)]\n",
    "\n",
    "p_small = len(hospitals_small[hospitals['Excess Readmission Ratio']>1])/n_small\n",
    "print('p_small = ',p_small)\n",
    "\n",
    "n_large = hospitals_large.shape[0]\n",
    "p_large = len(hospitals_large[hospitals['Excess Readmission Ratio']>1])/n_large\n",
    "print('p_large = ',p_large)"
   ]
  },
  {
   "cell_type": "code",
   "execution_count": 78,
   "metadata": {
    "collapsed": false
   },
   "outputs": [
    {
     "name": "stdout",
     "output_type": "stream",
     "text": [
      "p_large =  0.2695035460992908\n"
     ]
    },
    {
     "name": "stderr",
     "output_type": "stream",
     "text": [
      "c:\\Anaconda3\\lib\\site-packages\\pandas\\core\\frame.py:1997: UserWarning: Boolean Series key will be reindexed to match DataFrame index.\n",
      "  \"DataFrame index.\", UserWarning)\n"
     ]
    }
   ],
   "source": [
    "hospitals_large = hospitals[(hospitals['Number of Discharges']>1000)&(hospitals['Predicted Readmission Rate']<10)]\n",
    "n_large = hospitals_large.shape[0]\n",
    "p_large = len(hospitals_large[hospitals['Excess Readmission Ratio']>1])/n_large\n",
    "print('p_large = ',p_large)"
   ]
  },
  {
   "cell_type": "code",
   "execution_count": 83,
   "metadata": {
    "collapsed": false
   },
   "outputs": [
    {
     "name": "stdout",
     "output_type": "stream",
     "text": [
      "p_large =  0.5235109717868338\n"
     ]
    },
    {
     "name": "stderr",
     "output_type": "stream",
     "text": [
      "c:\\Anaconda3\\lib\\site-packages\\pandas\\core\\frame.py:1997: UserWarning: Boolean Series key will be reindexed to match DataFrame index.\n",
      "  \"DataFrame index.\", UserWarning)\n"
     ]
    }
   ],
   "source": [
    "#Point Estimate:\n",
    "\n",
    "hospitals_large = hospitals[(hospitals['Number of Discharges']>1000)&\n",
    "                            (hospitals['Predicted Readmission Rate']>10)]\n",
    "n_large = hospitals_large.shape[0]\n",
    "p_large = len(hospitals_large[hospitals['Excess Readmission Ratio']>1])/n_large\n",
    "print('p_large = ',p_large)"
   ]
  },
  {
   "cell_type": "code",
   "execution_count": 84,
   "metadata": {
    "collapsed": false
   },
   "outputs": [
    {
     "name": "stdout",
     "output_type": "stream",
     "text": [
      "-0.10864391036804832\n"
     ]
    }
   ],
   "source": [
    "p_diff = p_large-p_small\n",
    "print(p_diff)"
   ]
  },
  {
   "cell_type": "markdown",
   "metadata": {},
   "source": [
    "The point estimate is that the proportion of small hospital with excess readmissions is 18.6% larger than the proportion for large hospitals."
   ]
  },
  {
   "cell_type": "code",
   "execution_count": 85,
   "metadata": {
    "collapsed": false
   },
   "outputs": [
    {
     "name": "stdout",
     "output_type": "stream",
     "text": [
      "0.0315125165428\n",
      "-3.44764310462\n"
     ]
    }
   ],
   "source": [
    "SE = np.sqrt(p_est*(1-p_est)/n_small+p_est*(1-p_est)/n_large)\n",
    "print(SE)\n",
    "Z = (p_diff-0)/SE\n",
    "print(Z)"
   ]
  },
  {
   "cell_type": "code",
   "execution_count": 86,
   "metadata": {
    "collapsed": false
   },
   "outputs": [
    {
     "data": {
      "text/plain": [
       "0.00056550074212796772"
      ]
     },
     "execution_count": 86,
     "metadata": {},
     "output_type": "execute_result"
    }
   ],
   "source": [
    "from scipy import stats\n",
    "p_val = stats.norm.cdf(Z)*2\n",
    "p_val"
   ]
  },
  {
   "cell_type": "markdown",
   "metadata": {},
   "source": [
    "This test supports the initial analysis and suggests that there is in fact a difference in proportion of hospitals with excess readmission between small and large hospitals."
   ]
  },
  {
   "cell_type": "code",
   "execution_count": null,
   "metadata": {
    "collapsed": true
   },
   "outputs": [],
   "source": []
  },
  {
   "cell_type": "code",
   "execution_count": null,
   "metadata": {
    "collapsed": true
   },
   "outputs": [],
   "source": []
  },
  {
   "cell_type": "code",
   "execution_count": 55,
   "metadata": {
    "collapsed": false,
    "scrolled": true
   },
   "outputs": [
    {
     "name": "stdout",
     "output_type": "stream",
     "text": [
      "9.91444296433\n",
      "3.04247308752e-22\n"
     ]
    }
   ],
   "source": [
    "t_val,p_value = stats.ttest_ind(hospitals_small['Excess Readmission Ratio'],hospitals_large['Excess Readmission Ratio'])\n",
    "print(t_val)\n",
    "print(p_value*2)\n"
   ]
  },
  {
   "cell_type": "markdown",
   "metadata": {},
   "source": [
    "This t-test supports it too."
   ]
  },
  {
   "cell_type": "code",
   "execution_count": 28,
   "metadata": {
    "collapsed": false
   },
   "outputs": [
    {
     "data": {
      "text/plain": [
       "1.0226183501683506"
      ]
     },
     "execution_count": 28,
     "metadata": {},
     "output_type": "execute_result"
    }
   ],
   "source": [
    "hospitals_small['Excess Readmission Ratio'].mean()"
   ]
  },
  {
   "cell_type": "code",
   "execution_count": 31,
   "metadata": {
    "collapsed": true
   },
   "outputs": [],
   "source": [
    "import seaborn as sns"
   ]
  },
  {
   "cell_type": "code",
   "execution_count": 55,
   "metadata": {
    "collapsed": false
   },
   "outputs": [
    {
     "data": {
      "text/plain": [
       "<matplotlib.axes._subplots.AxesSubplot at 0xe85f940>"
      ]
     },
     "execution_count": 55,
     "metadata": {},
     "output_type": "execute_result"
    },
    {
     "data": {
      "image/png": "[encoded data removed]",
      "text/plain": [
       "<matplotlib.figure.Figure at 0xe8b7f60>"
      ]
     },
     "metadata": {},
     "output_type": "display_data"
    }
   ],
   "source": [
    "sns.distplot(hospitals['Predicted Readmission Rate'],bins=10,color='yellow',kde=False)"
   ]
  },
  {
   "cell_type": "code",
   "execution_count": 58,
   "metadata": {
    "collapsed": false,
    "scrolled": true
   },
   "outputs": [
    {
     "data": {
      "text/plain": [
       "<matplotlib.axes._subplots.AxesSubplot at 0xea93cf8>"
      ]
     },
     "execution_count": 58,
     "metadata": {},
     "output_type": "execute_result"
    },
    {
     "data": {
      "image/png": "[encoded data removed]",
      "text/plain": [
       "<matplotlib.figure.Figure at 0xeaa2438>"
      ]
     },
     "metadata": {},
     "output_type": "display_data"
    }
   ],
   "source": [
    "sns.distplot(hospitals_small['Predicted Readmission Rate'],bins=10,color='red',kde=False)"
   ]
  },
  {
   "cell_type": "code",
   "execution_count": 53,
   "metadata": {
    "collapsed": false
   },
   "outputs": [
    {
     "data": {
      "text/plain": [
       "<matplotlib.axes._subplots.AxesSubplot at 0xe7c6780>"
      ]
     },
     "execution_count": 53,
     "metadata": {},
     "output_type": "execute_result"
    },
    {
     "data": {
      "image/png": "[encoded data removed]",
      "text/plain": [
       "<matplotlib.figure.Figure at 0xe790e48>"
      ]
     },
     "metadata": {},
     "output_type": "display_data"
    }
   ],
   "source": [
    "sns.distplot(hospitals_large['Predicted Readmission Rate'],bins=10,kde=False)"
   ]
  },
  {
   "cell_type": "code",
   "execution_count": null,
   "metadata": {
    "collapsed": true
   },
   "outputs": [],
   "source": []
  },
  {
   "cell_type": "code",
   "execution_count": 39,
   "metadata": {
    "collapsed": false
   },
   "outputs": [
    {
     "data": {
      "text/plain": [
       "<matplotlib.axes._subplots.AxesSubplot at 0xdd13630>"
      ]
     },
     "execution_count": 39,
     "metadata": {},
     "output_type": "execute_result"
    },
    {
     "data": {
      "image/png": "[encoded data removed]",
      "text/plain": [
       "<matplotlib.figure.Figure at 0xdd1a780>"
      ]
     },
     "metadata": {},
     "output_type": "display_data"
    }
   ],
   "source": [
    "sns.distplot(hospitals_large['Expected Readmission Rate'],bins=30)"
   ]
  },
  {
   "cell_type": "code",
   "execution_count": 60,
   "metadata": {
    "collapsed": false,
    "scrolled": true
   },
   "outputs": [
    {
     "data": {
      "text/plain": [
       "<matplotlib.axes._subplots.AxesSubplot at 0xeca7080>"
      ]
     },
     "execution_count": 60,
     "metadata": {},
     "output_type": "execute_result"
    },
    {
     "data": {
      "image/png": "[encoded data removed]",
      "text/plain": [
       "<matplotlib.figure.Figure at 0xecc35f8>"
      ]
     },
     "metadata": {},
     "output_type": "display_data"
    }
   ],
   "source": [
    "sns.distplot(hospitals_small['Predicted Readmission Rate'],bins=30,color='red',kde=False)\n",
    "sns.distplot(hospitals_large['Predicted Readmission Rate'],bins=30,color='green',kde=False)\n"
   ]
  },
  {
   "cell_type": "code",
   "execution_count": 61,
   "metadata": {
    "collapsed": false,
    "scrolled": true
   },
   "outputs": [
    {
     "data": {
      "text/plain": [
       "<matplotlib.axes._subplots.AxesSubplot at 0xecc3f98>"
      ]
     },
     "execution_count": 61,
     "metadata": {},
     "output_type": "execute_result"
    },
    {
     "data": {
      "image/png": "[encoded data removed]",
      "text/plain": [
       "<matplotlib.figure.Figure at 0xef12400>"
      ]
     },
     "metadata": {},
     "output_type": "display_data"
    }
   ],
   "source": [
    "sns.distplot(hospitals_small['Expected Readmission Rate'],bins=30,color='red',kde=False)\n",
    "sns.distplot(hospitals_large['Expected Readmission Rate'],bins=30,color='green',kde=False)\n"
   ]
  },
  {
   "cell_type": "code",
   "execution_count": 69,
   "metadata": {
    "collapsed": false,
    "scrolled": true
   },
   "outputs": [
    {
     "data": {
      "text/plain": [
       "<matplotlib.axes._subplots.AxesSubplot at 0x11155438>"
      ]
     },
     "execution_count": 69,
     "metadata": {},
     "output_type": "execute_result"
    },
    {
     "data": {
      "image/png": "[encoded data removed]",
      "text/plain": [
       "<matplotlib.figure.Figure at 0x1115b470>"
      ]
     },
     "metadata": {},
     "output_type": "display_data"
    }
   ],
   "source": [
    "sns.distplot(hospitals_small['Excess Readmission Ratio'],bins=30,color='red')\n",
    "sns.distplot(hospitals_large['Excess Readmission Ratio'],bins=30,color='green')\n"
   ]
  },
  {
   "cell_type": "code",
   "execution_count": 42,
   "metadata": {
    "collapsed": false
   },
   "outputs": [
    {
     "data": {
      "text/plain": [
       "<matplotlib.axes._subplots.AxesSubplot at 0xde29710>"
      ]
     },
     "execution_count": 42,
     "metadata": {},
     "output_type": "execute_result"
    },
    {
     "data": {
      "image/png": "[encoded data removed]",
      "text/plain": [
       "<matplotlib.figure.Figure at 0xdfbc518>"
      ]
     },
     "metadata": {},
     "output_type": "display_data"
    }
   ],
   "source": []
  },
  {
   "cell_type": "code",
   "execution_count": 29,
   "metadata": {
    "collapsed": false
   },
   "outputs": [
    {
     "data": {
      "text/plain": [
       "0.9790730434782613"
      ]
     },
     "execution_count": 29,
     "metadata": {},
     "output_type": "execute_result"
    }
   ],
   "source": [
    "hospitals_large['Excess Readmission Ratio'].mean()"
   ]
  },
  {
   "cell_type": "code",
   "execution_count": 47,
   "metadata": {
    "collapsed": false
   },
   "outputs": [
    {
     "data": {
      "text/html": [
       "<div>\n",
       "<table border=\"1\" class=\"dataframe\">\n",
       "  <thead>\n",
       "    <tr style=\"text-align: right;\">\n",
       "      <th></th>\n",
       "      <th>Provider Number</th>\n",
       "      <th>Number of Discharges</th>\n",
       "      <th>Footnote</th>\n",
       "      <th>Excess Readmission Ratio</th>\n",
       "      <th>Predicted Readmission Rate</th>\n",
       "      <th>Expected Readmission Rate</th>\n",
       "      <th>Number of Readmissions</th>\n",
       "    </tr>\n",
       "  </thead>\n",
       "  <tbody>\n",
       "    <tr>\n",
       "      <th>Provider Number</th>\n",
       "      <td>1.000000</td>\n",
       "      <td>-0.009196</td>\n",
       "      <td>NaN</td>\n",
       "      <td>0.025683</td>\n",
       "      <td>0.031422</td>\n",
       "      <td>0.048462</td>\n",
       "      <td>0.029484</td>\n",
       "    </tr>\n",
       "    <tr>\n",
       "      <th>Number of Discharges</th>\n",
       "      <td>-0.009196</td>\n",
       "      <td>1.000000</td>\n",
       "      <td>NaN</td>\n",
       "      <td>-0.021222</td>\n",
       "      <td>-0.138943</td>\n",
       "      <td>-0.152674</td>\n",
       "      <td>0.292776</td>\n",
       "    </tr>\n",
       "    <tr>\n",
       "      <th>Footnote</th>\n",
       "      <td>NaN</td>\n",
       "      <td>NaN</td>\n",
       "      <td>NaN</td>\n",
       "      <td>NaN</td>\n",
       "      <td>NaN</td>\n",
       "      <td>NaN</td>\n",
       "      <td>NaN</td>\n",
       "    </tr>\n",
       "    <tr>\n",
       "      <th>Excess Readmission Ratio</th>\n",
       "      <td>0.025683</td>\n",
       "      <td>-0.021222</td>\n",
       "      <td>NaN</td>\n",
       "      <td>1.000000</td>\n",
       "      <td>0.472278</td>\n",
       "      <td>0.323405</td>\n",
       "      <td>0.456704</td>\n",
       "    </tr>\n",
       "    <tr>\n",
       "      <th>Predicted Readmission Rate</th>\n",
       "      <td>0.031422</td>\n",
       "      <td>-0.138943</td>\n",
       "      <td>NaN</td>\n",
       "      <td>0.472278</td>\n",
       "      <td>1.000000</td>\n",
       "      <td>0.979997</td>\n",
       "      <td>0.876024</td>\n",
       "    </tr>\n",
       "    <tr>\n",
       "      <th>Expected Readmission Rate</th>\n",
       "      <td>0.048462</td>\n",
       "      <td>-0.152674</td>\n",
       "      <td>NaN</td>\n",
       "      <td>0.323405</td>\n",
       "      <td>0.979997</td>\n",
       "      <td>1.000000</td>\n",
       "      <td>0.845657</td>\n",
       "    </tr>\n",
       "    <tr>\n",
       "      <th>Number of Readmissions</th>\n",
       "      <td>0.029484</td>\n",
       "      <td>0.292776</td>\n",
       "      <td>NaN</td>\n",
       "      <td>0.456704</td>\n",
       "      <td>0.876024</td>\n",
       "      <td>0.845657</td>\n",
       "      <td>1.000000</td>\n",
       "    </tr>\n",
       "  </tbody>\n",
       "</table>\n",
       "</div>"
      ],
      "text/plain": [
       "                            Provider Number  Number of Discharges  Footnote  \\\n",
       "Provider Number                    1.000000             -0.009196       NaN   \n",
       "Number of Discharges              -0.009196              1.000000       NaN   \n",
       "Footnote                                NaN                   NaN       NaN   \n",
       "Excess Readmission Ratio           0.025683             -0.021222       NaN   \n",
       "Predicted Readmission Rate         0.031422             -0.138943       NaN   \n",
       "Expected Readmission Rate          0.048462             -0.152674       NaN   \n",
       "Number of Readmissions             0.029484              0.292776       NaN   \n",
       "\n",
       "                            Excess Readmission Ratio  \\\n",
       "Provider Number                             0.025683   \n",
       "Number of Discharges                       -0.021222   \n",
       "Footnote                                         NaN   \n",
       "Excess Readmission Ratio                    1.000000   \n",
       "Predicted Readmission Rate                  0.472278   \n",
       "Expected Readmission Rate                   0.323405   \n",
       "Number of Readmissions                      0.456704   \n",
       "\n",
       "                            Predicted Readmission Rate  \\\n",
       "Provider Number                               0.031422   \n",
       "Number of Discharges                         -0.138943   \n",
       "Footnote                                           NaN   \n",
       "Excess Readmission Ratio                      0.472278   \n",
       "Predicted Readmission Rate                    1.000000   \n",
       "Expected Readmission Rate                     0.979997   \n",
       "Number of Readmissions                        0.876024   \n",
       "\n",
       "                            Expected Readmission Rate  Number of Readmissions  \n",
       "Provider Number                              0.048462                0.029484  \n",
       "Number of Discharges                        -0.152674                0.292776  \n",
       "Footnote                                          NaN                     NaN  \n",
       "Excess Readmission Ratio                     0.323405                0.456704  \n",
       "Predicted Readmission Rate                   0.979997                0.876024  \n",
       "Expected Readmission Rate                    1.000000                0.845657  \n",
       "Number of Readmissions                       0.845657                1.000000  "
      ]
     },
     "execution_count": 47,
     "metadata": {},
     "output_type": "execute_result"
    }
   ],
   "source": [
    "hospitals_large.corr()"
   ]
  },
  {
   "cell_type": "code",
   "execution_count": 48,
   "metadata": {
    "collapsed": false
   },
   "outputs": [
    {
     "data": {
      "text/plain": [
       "460"
      ]
     },
     "execution_count": 48,
     "metadata": {},
     "output_type": "execute_result"
    }
   ],
   "source": [
    "hospitals_large.shape[0]"
   ]
  },
  {
   "cell_type": "code",
   "execution_count": 46,
   "metadata": {
    "collapsed": false,
    "scrolled": false
   },
   "outputs": [
    {
     "data": {
      "text/html": [
       "<div>\n",
       "<table border=\"1\" class=\"dataframe\">\n",
       "  <thead>\n",
       "    <tr style=\"text-align: right;\">\n",
       "      <th></th>\n",
       "      <th>Hospital Name</th>\n",
       "      <th>Provider Number</th>\n",
       "      <th>State</th>\n",
       "      <th>Measure Name</th>\n",
       "      <th>Number of Discharges</th>\n",
       "      <th>Footnote</th>\n",
       "      <th>Excess Readmission Ratio</th>\n",
       "      <th>Predicted Readmission Rate</th>\n",
       "      <th>Expected Readmission Rate</th>\n",
       "      <th>Number of Readmissions</th>\n",
       "      <th>Start Date</th>\n",
       "      <th>End Date</th>\n",
       "    </tr>\n",
       "  </thead>\n",
       "  <tbody>\n",
       "    <tr>\n",
       "      <th>821</th>\n",
       "      <td>CRITTENTON HOSPITAL MEDICAL CENTER</td>\n",
       "      <td>230254</td>\n",
       "      <td>MI</td>\n",
       "      <td>READM-30-HIP-KNEE-HRRP</td>\n",
       "      <td>1004</td>\n",
       "      <td>NaN</td>\n",
       "      <td>1.1405</td>\n",
       "      <td>6.1</td>\n",
       "      <td>5.4</td>\n",
       "      <td>64</td>\n",
       "      <td>07/01/2010</td>\n",
       "      <td>06/30/2013</td>\n",
       "    </tr>\n",
       "    <tr>\n",
       "      <th>12428</th>\n",
       "      <td>NORTH KANSAS CITY HOSPITAL</td>\n",
       "      <td>260096</td>\n",
       "      <td>MO</td>\n",
       "      <td>READM-30-HIP-KNEE-HRRP</td>\n",
       "      <td>1010</td>\n",
       "      <td>NaN</td>\n",
       "      <td>0.8992</td>\n",
       "      <td>4.5</td>\n",
       "      <td>5.1</td>\n",
       "      <td>44</td>\n",
       "      <td>07/01/2010</td>\n",
       "      <td>06/30/2013</td>\n",
       "    </tr>\n",
       "    <tr>\n",
       "      <th>13032</th>\n",
       "      <td>BEEBE MEDICAL CENTER</td>\n",
       "      <td>80007</td>\n",
       "      <td>DE</td>\n",
       "      <td>READM-30-HIP-KNEE-HRRP</td>\n",
       "      <td>1017</td>\n",
       "      <td>NaN</td>\n",
       "      <td>0.8670</td>\n",
       "      <td>4.3</td>\n",
       "      <td>4.9</td>\n",
       "      <td>41</td>\n",
       "      <td>07/01/2010</td>\n",
       "      <td>06/30/2013</td>\n",
       "    </tr>\n",
       "    <tr>\n",
       "      <th>13285</th>\n",
       "      <td>UNIVERSITY COLO HEALTH MEMORIAL HOSPITAL CENTRAL</td>\n",
       "      <td>60022</td>\n",
       "      <td>CO</td>\n",
       "      <td>READM-30-HIP-KNEE-HRRP</td>\n",
       "      <td>1023</td>\n",
       "      <td>NaN</td>\n",
       "      <td>0.8426</td>\n",
       "      <td>4.1</td>\n",
       "      <td>4.9</td>\n",
       "      <td>39</td>\n",
       "      <td>07/01/2010</td>\n",
       "      <td>06/30/2013</td>\n",
       "    </tr>\n",
       "    <tr>\n",
       "      <th>13674</th>\n",
       "      <td>EISENHOWER MEDICAL CENTER</td>\n",
       "      <td>50573</td>\n",
       "      <td>CA</td>\n",
       "      <td>READM-30-HIP-KNEE-HRRP</td>\n",
       "      <td>1023</td>\n",
       "      <td>NaN</td>\n",
       "      <td>0.7325</td>\n",
       "      <td>4.2</td>\n",
       "      <td>5.7</td>\n",
       "      <td>37</td>\n",
       "      <td>07/01/2010</td>\n",
       "      <td>06/30/2013</td>\n",
       "    </tr>\n",
       "    <tr>\n",
       "      <th>12801</th>\n",
       "      <td>FRANCISCAN ST ELIZABETH HEALTH - LAFAYETTE EAST</td>\n",
       "      <td>150109</td>\n",
       "      <td>IN</td>\n",
       "      <td>READM-30-HIP-KNEE-HRRP</td>\n",
       "      <td>1031</td>\n",
       "      <td>NaN</td>\n",
       "      <td>0.8812</td>\n",
       "      <td>4.7</td>\n",
       "      <td>5.3</td>\n",
       "      <td>46</td>\n",
       "      <td>07/01/2010</td>\n",
       "      <td>06/30/2013</td>\n",
       "    </tr>\n",
       "    <tr>\n",
       "      <th>13727</th>\n",
       "      <td>SUTTER GENERAL HOSPITAL</td>\n",
       "      <td>50108</td>\n",
       "      <td>CA</td>\n",
       "      <td>READM-30-HIP-KNEE-HRRP</td>\n",
       "      <td>1032</td>\n",
       "      <td>NaN</td>\n",
       "      <td>0.6262</td>\n",
       "      <td>3.0</td>\n",
       "      <td>4.8</td>\n",
       "      <td>23</td>\n",
       "      <td>07/01/2010</td>\n",
       "      <td>06/30/2013</td>\n",
       "    </tr>\n",
       "    <tr>\n",
       "      <th>398</th>\n",
       "      <td>MERCY MEDICAL CENTER INC</td>\n",
       "      <td>210008</td>\n",
       "      <td>MD</td>\n",
       "      <td>READM-30-HIP-KNEE-HRRP</td>\n",
       "      <td>1037</td>\n",
       "      <td>NaN</td>\n",
       "      <td>1.1874</td>\n",
       "      <td>5.7</td>\n",
       "      <td>4.8</td>\n",
       "      <td>62</td>\n",
       "      <td>07/01/2010</td>\n",
       "      <td>06/30/2013</td>\n",
       "    </tr>\n",
       "    <tr>\n",
       "      <th>1486</th>\n",
       "      <td>PIEDMONT HOSPITAL</td>\n",
       "      <td>110083</td>\n",
       "      <td>GA</td>\n",
       "      <td>READM-30-HIP-KNEE-HRRP</td>\n",
       "      <td>1040</td>\n",
       "      <td>NaN</td>\n",
       "      <td>1.1034</td>\n",
       "      <td>5.0</td>\n",
       "      <td>4.6</td>\n",
       "      <td>54</td>\n",
       "      <td>07/01/2010</td>\n",
       "      <td>06/30/2013</td>\n",
       "    </tr>\n",
       "    <tr>\n",
       "      <th>13436</th>\n",
       "      <td>MERCY HOSPITAL</td>\n",
       "      <td>160029</td>\n",
       "      <td>IA</td>\n",
       "      <td>READM-30-HIP-KNEE-HRRP</td>\n",
       "      <td>1045</td>\n",
       "      <td>NaN</td>\n",
       "      <td>0.8236</td>\n",
       "      <td>3.9</td>\n",
       "      <td>4.7</td>\n",
       "      <td>37</td>\n",
       "      <td>07/01/2010</td>\n",
       "      <td>06/30/2013</td>\n",
       "    </tr>\n",
       "    <tr>\n",
       "      <th>2470</th>\n",
       "      <td>PHYSICIANS REGIONAL MEDICAL CENTER - PINE RIDGE</td>\n",
       "      <td>100286</td>\n",
       "      <td>FL</td>\n",
       "      <td>READM-30-HIP-KNEE-HRRP</td>\n",
       "      <td>1049</td>\n",
       "      <td>NaN</td>\n",
       "      <td>1.0730</td>\n",
       "      <td>5.6</td>\n",
       "      <td>5.2</td>\n",
       "      <td>60</td>\n",
       "      <td>07/01/2010</td>\n",
       "      <td>06/30/2013</td>\n",
       "    </tr>\n",
       "    <tr>\n",
       "      <th>11403</th>\n",
       "      <td>NOVANT HEALTH FORSYTH MEDICAL CENTER</td>\n",
       "      <td>340014</td>\n",
       "      <td>NC</td>\n",
       "      <td>READM-30-HIP-KNEE-HRRP</td>\n",
       "      <td>1053</td>\n",
       "      <td>NaN</td>\n",
       "      <td>0.9281</td>\n",
       "      <td>4.5</td>\n",
       "      <td>4.8</td>\n",
       "      <td>46</td>\n",
       "      <td>07/01/2010</td>\n",
       "      <td>06/30/2013</td>\n",
       "    </tr>\n",
       "    <tr>\n",
       "      <th>13312</th>\n",
       "      <td>MAYO CLINIC HOSPITAL</td>\n",
       "      <td>30103</td>\n",
       "      <td>AZ</td>\n",
       "      <td>READM-30-HIP-KNEE-HRRP</td>\n",
       "      <td>1056</td>\n",
       "      <td>NaN</td>\n",
       "      <td>0.8397</td>\n",
       "      <td>4.3</td>\n",
       "      <td>5.1</td>\n",
       "      <td>42</td>\n",
       "      <td>07/01/2010</td>\n",
       "      <td>06/30/2013</td>\n",
       "    </tr>\n",
       "    <tr>\n",
       "      <th>13352</th>\n",
       "      <td>SAINT JOSEPH REGIONAL MEDICAL CENTER</td>\n",
       "      <td>150012</td>\n",
       "      <td>IN</td>\n",
       "      <td>READM-30-HIP-KNEE-HRRP</td>\n",
       "      <td>1061</td>\n",
       "      <td>NaN</td>\n",
       "      <td>0.8349</td>\n",
       "      <td>4.2</td>\n",
       "      <td>5.0</td>\n",
       "      <td>41</td>\n",
       "      <td>07/01/2010</td>\n",
       "      <td>06/30/2013</td>\n",
       "    </tr>\n",
       "    <tr>\n",
       "      <th>1046</th>\n",
       "      <td>ST VINCENT INFIRMARY MEDICAL CENTER</td>\n",
       "      <td>40007</td>\n",
       "      <td>AR</td>\n",
       "      <td>READM-30-HIP-KNEE-HRRP</td>\n",
       "      <td>1061</td>\n",
       "      <td>NaN</td>\n",
       "      <td>1.1255</td>\n",
       "      <td>5.8</td>\n",
       "      <td>5.2</td>\n",
       "      <td>64</td>\n",
       "      <td>07/01/2010</td>\n",
       "      <td>06/30/2013</td>\n",
       "    </tr>\n",
       "    <tr>\n",
       "      <th>12903</th>\n",
       "      <td>TENNOVA HEALTHCARE</td>\n",
       "      <td>440120</td>\n",
       "      <td>TN</td>\n",
       "      <td>READM-30-HIP-KNEE-HRRP</td>\n",
       "      <td>1066</td>\n",
       "      <td>NaN</td>\n",
       "      <td>0.8753</td>\n",
       "      <td>4.3</td>\n",
       "      <td>4.9</td>\n",
       "      <td>43</td>\n",
       "      <td>07/01/2010</td>\n",
       "      <td>06/30/2013</td>\n",
       "    </tr>\n",
       "    <tr>\n",
       "      <th>7517</th>\n",
       "      <td>CENTURA HEALTH-PORTER ADVENTIST HOSPITAL</td>\n",
       "      <td>60064</td>\n",
       "      <td>CO</td>\n",
       "      <td>READM-30-HIP-KNEE-HRRP</td>\n",
       "      <td>1068</td>\n",
       "      <td>NaN</td>\n",
       "      <td>0.9884</td>\n",
       "      <td>4.7</td>\n",
       "      <td>4.8</td>\n",
       "      <td>50</td>\n",
       "      <td>07/01/2010</td>\n",
       "      <td>06/30/2013</td>\n",
       "    </tr>\n",
       "    <tr>\n",
       "      <th>13482</th>\n",
       "      <td>ST ALPHONSUS REGIONAL MEDICAL CENTER</td>\n",
       "      <td>130007</td>\n",
       "      <td>ID</td>\n",
       "      <td>READM-30-HIP-KNEE-HRRP</td>\n",
       "      <td>1069</td>\n",
       "      <td>NaN</td>\n",
       "      <td>0.8127</td>\n",
       "      <td>3.9</td>\n",
       "      <td>4.8</td>\n",
       "      <td>38</td>\n",
       "      <td>07/01/2010</td>\n",
       "      <td>06/30/2013</td>\n",
       "    </tr>\n",
       "    <tr>\n",
       "      <th>1250</th>\n",
       "      <td>SIBLEY MEMORIAL HOSPITAL</td>\n",
       "      <td>90005</td>\n",
       "      <td>DC</td>\n",
       "      <td>READM-30-HIP-KNEE-HRRP</td>\n",
       "      <td>1070</td>\n",
       "      <td>NaN</td>\n",
       "      <td>1.1145</td>\n",
       "      <td>5.2</td>\n",
       "      <td>4.7</td>\n",
       "      <td>58</td>\n",
       "      <td>07/01/2010</td>\n",
       "      <td>06/30/2013</td>\n",
       "    </tr>\n",
       "    <tr>\n",
       "      <th>8696</th>\n",
       "      <td>NORTHEAST GEORGIA MEDICAL CENTER, INC</td>\n",
       "      <td>110029</td>\n",
       "      <td>GA</td>\n",
       "      <td>READM-30-HIP-KNEE-HRRP</td>\n",
       "      <td>1075</td>\n",
       "      <td>NaN</td>\n",
       "      <td>0.9731</td>\n",
       "      <td>4.8</td>\n",
       "      <td>4.9</td>\n",
       "      <td>51</td>\n",
       "      <td>07/01/2010</td>\n",
       "      <td>06/30/2013</td>\n",
       "    </tr>\n",
       "    <tr>\n",
       "      <th>7296</th>\n",
       "      <td>CHRIST HOSPITAL</td>\n",
       "      <td>360163</td>\n",
       "      <td>OH</td>\n",
       "      <td>READM-30-HIP-KNEE-HRRP</td>\n",
       "      <td>1075</td>\n",
       "      <td>NaN</td>\n",
       "      <td>0.9916</td>\n",
       "      <td>5.1</td>\n",
       "      <td>5.2</td>\n",
       "      <td>55</td>\n",
       "      <td>07/01/2010</td>\n",
       "      <td>06/30/2013</td>\n",
       "    </tr>\n",
       "    <tr>\n",
       "      <th>10007</th>\n",
       "      <td>CENTURA HEALTH-PENROSE ST FRANCIS HEALTH SERVICES</td>\n",
       "      <td>60031</td>\n",
       "      <td>CO</td>\n",
       "      <td>READM-30-HIP-KNEE-HRRP</td>\n",
       "      <td>1076</td>\n",
       "      <td>NaN</td>\n",
       "      <td>0.9543</td>\n",
       "      <td>4.5</td>\n",
       "      <td>4.8</td>\n",
       "      <td>48</td>\n",
       "      <td>07/01/2010</td>\n",
       "      <td>06/30/2013</td>\n",
       "    </tr>\n",
       "    <tr>\n",
       "      <th>403</th>\n",
       "      <td>DIXIE REGIONAL MEDICAL CENTER</td>\n",
       "      <td>460021</td>\n",
       "      <td>UT</td>\n",
       "      <td>READM-30-HIP-KNEE-HRRP</td>\n",
       "      <td>1091</td>\n",
       "      <td>NaN</td>\n",
       "      <td>1.1867</td>\n",
       "      <td>5.8</td>\n",
       "      <td>4.9</td>\n",
       "      <td>66</td>\n",
       "      <td>07/01/2010</td>\n",
       "      <td>06/30/2013</td>\n",
       "    </tr>\n",
       "    <tr>\n",
       "      <th>8898</th>\n",
       "      <td>ST ROSE DOMINICAN HOSPITALS - SIENA CAMPUS</td>\n",
       "      <td>290045</td>\n",
       "      <td>NV</td>\n",
       "      <td>READM-30-HIP-KNEE-HRRP</td>\n",
       "      <td>1097</td>\n",
       "      <td>NaN</td>\n",
       "      <td>0.9701</td>\n",
       "      <td>4.7</td>\n",
       "      <td>4.8</td>\n",
       "      <td>51</td>\n",
       "      <td>07/01/2010</td>\n",
       "      <td>06/30/2013</td>\n",
       "    </tr>\n",
       "    <tr>\n",
       "      <th>9579</th>\n",
       "      <td>BRIGHAM AND WOMEN'S HOSPITAL</td>\n",
       "      <td>220110</td>\n",
       "      <td>MA</td>\n",
       "      <td>READM-30-HIP-KNEE-HRRP</td>\n",
       "      <td>1100</td>\n",
       "      <td>NaN</td>\n",
       "      <td>0.9609</td>\n",
       "      <td>5.2</td>\n",
       "      <td>5.4</td>\n",
       "      <td>56</td>\n",
       "      <td>07/01/2010</td>\n",
       "      <td>06/30/2013</td>\n",
       "    </tr>\n",
       "    <tr>\n",
       "      <th>12818</th>\n",
       "      <td>MAYO CLINIC</td>\n",
       "      <td>100151</td>\n",
       "      <td>FL</td>\n",
       "      <td>READM-30-HIP-KNEE-HRRP</td>\n",
       "      <td>1112</td>\n",
       "      <td>NaN</td>\n",
       "      <td>0.8805</td>\n",
       "      <td>4.4</td>\n",
       "      <td>5.0</td>\n",
       "      <td>47</td>\n",
       "      <td>07/01/2010</td>\n",
       "      <td>06/30/2013</td>\n",
       "    </tr>\n",
       "    <tr>\n",
       "      <th>3605</th>\n",
       "      <td>MUNSON MEDICAL CENTER</td>\n",
       "      <td>230097</td>\n",
       "      <td>MI</td>\n",
       "      <td>READM-30-HIP-KNEE-HRRP</td>\n",
       "      <td>1112</td>\n",
       "      <td>NaN</td>\n",
       "      <td>1.0485</td>\n",
       "      <td>5.2</td>\n",
       "      <td>5.0</td>\n",
       "      <td>59</td>\n",
       "      <td>07/01/2010</td>\n",
       "      <td>06/30/2013</td>\n",
       "    </tr>\n",
       "    <tr>\n",
       "      <th>10551</th>\n",
       "      <td>NORTHWEST COMMUNITY HOSPITAL</td>\n",
       "      <td>140252</td>\n",
       "      <td>IL</td>\n",
       "      <td>READM-30-HIP-KNEE-HRRP</td>\n",
       "      <td>1113</td>\n",
       "      <td>NaN</td>\n",
       "      <td>0.9453</td>\n",
       "      <td>4.9</td>\n",
       "      <td>5.2</td>\n",
       "      <td>54</td>\n",
       "      <td>07/01/2010</td>\n",
       "      <td>06/30/2013</td>\n",
       "    </tr>\n",
       "    <tr>\n",
       "      <th>13704</th>\n",
       "      <td>PROVIDENCE SACRED HEART MEDICAL CENTER</td>\n",
       "      <td>500054</td>\n",
       "      <td>WA</td>\n",
       "      <td>READM-30-HIP-KNEE-HRRP</td>\n",
       "      <td>1116</td>\n",
       "      <td>NaN</td>\n",
       "      <td>0.7000</td>\n",
       "      <td>3.2</td>\n",
       "      <td>4.6</td>\n",
       "      <td>30</td>\n",
       "      <td>07/01/2010</td>\n",
       "      <td>06/30/2013</td>\n",
       "    </tr>\n",
       "    <tr>\n",
       "      <th>13244</th>\n",
       "      <td>NORTH FLORIDA REGIONAL MEDICAL CENTER</td>\n",
       "      <td>100204</td>\n",
       "      <td>FL</td>\n",
       "      <td>READM-30-HIP-KNEE-HRRP</td>\n",
       "      <td>1126</td>\n",
       "      <td>NaN</td>\n",
       "      <td>0.8474</td>\n",
       "      <td>4.4</td>\n",
       "      <td>5.2</td>\n",
       "      <td>47</td>\n",
       "      <td>07/01/2010</td>\n",
       "      <td>06/30/2013</td>\n",
       "    </tr>\n",
       "    <tr>\n",
       "      <th>...</th>\n",
       "      <td>...</td>\n",
       "      <td>...</td>\n",
       "      <td>...</td>\n",
       "      <td>...</td>\n",
       "      <td>...</td>\n",
       "      <td>...</td>\n",
       "      <td>...</td>\n",
       "      <td>...</td>\n",
       "      <td>...</td>\n",
       "      <td>...</td>\n",
       "      <td>...</td>\n",
       "      <td>...</td>\n",
       "    </tr>\n",
       "    <tr>\n",
       "      <th>1660</th>\n",
       "      <td>BAPTIST MEDICAL CENTER</td>\n",
       "      <td>450058</td>\n",
       "      <td>TX</td>\n",
       "      <td>READM-30-HIP-KNEE-HRRP</td>\n",
       "      <td>1766</td>\n",
       "      <td>NaN</td>\n",
       "      <td>1.0974</td>\n",
       "      <td>5.5</td>\n",
       "      <td>5.0</td>\n",
       "      <td>99</td>\n",
       "      <td>07/01/2010</td>\n",
       "      <td>06/30/2013</td>\n",
       "    </tr>\n",
       "    <tr>\n",
       "      <th>12828</th>\n",
       "      <td>PLAZA MEDICAL CENTER OF FORT WORTH</td>\n",
       "      <td>450672</td>\n",
       "      <td>TX</td>\n",
       "      <td>READM-30-HIP-KNEE-HRRP</td>\n",
       "      <td>1773</td>\n",
       "      <td>NaN</td>\n",
       "      <td>0.8801</td>\n",
       "      <td>4.2</td>\n",
       "      <td>4.8</td>\n",
       "      <td>73</td>\n",
       "      <td>07/01/2010</td>\n",
       "      <td>06/30/2013</td>\n",
       "    </tr>\n",
       "    <tr>\n",
       "      <th>13636</th>\n",
       "      <td>ARKANSAS SURGICAL HOSPITAL</td>\n",
       "      <td>40147</td>\n",
       "      <td>AR</td>\n",
       "      <td>READM-30-HIP-KNEE-HRRP</td>\n",
       "      <td>1779</td>\n",
       "      <td>NaN</td>\n",
       "      <td>0.7564</td>\n",
       "      <td>3.2</td>\n",
       "      <td>4.2</td>\n",
       "      <td>52</td>\n",
       "      <td>07/01/2010</td>\n",
       "      <td>06/30/2013</td>\n",
       "    </tr>\n",
       "    <tr>\n",
       "      <th>13675</th>\n",
       "      <td>SAINT THOMAS WEST HOSPITAL</td>\n",
       "      <td>440082</td>\n",
       "      <td>TN</td>\n",
       "      <td>READM-30-HIP-KNEE-HRRP</td>\n",
       "      <td>1815</td>\n",
       "      <td>NaN</td>\n",
       "      <td>0.7313</td>\n",
       "      <td>3.8</td>\n",
       "      <td>5.2</td>\n",
       "      <td>63</td>\n",
       "      <td>07/01/2010</td>\n",
       "      <td>06/30/2013</td>\n",
       "    </tr>\n",
       "    <tr>\n",
       "      <th>13708</th>\n",
       "      <td>POUDRE VALLEY HOSPITAL</td>\n",
       "      <td>60010</td>\n",
       "      <td>CO</td>\n",
       "      <td>READM-30-HIP-KNEE-HRRP</td>\n",
       "      <td>1817</td>\n",
       "      <td>NaN</td>\n",
       "      <td>0.6987</td>\n",
       "      <td>3.3</td>\n",
       "      <td>4.7</td>\n",
       "      <td>53</td>\n",
       "      <td>07/01/2010</td>\n",
       "      <td>06/30/2013</td>\n",
       "    </tr>\n",
       "    <tr>\n",
       "      <th>6728</th>\n",
       "      <td>MARY IMMACULATE HOSPITAL</td>\n",
       "      <td>490041</td>\n",
       "      <td>VA</td>\n",
       "      <td>READM-30-HIP-KNEE-HRRP</td>\n",
       "      <td>1822</td>\n",
       "      <td>NaN</td>\n",
       "      <td>0.9991</td>\n",
       "      <td>4.9</td>\n",
       "      <td>4.9</td>\n",
       "      <td>90</td>\n",
       "      <td>07/01/2010</td>\n",
       "      <td>06/30/2013</td>\n",
       "    </tr>\n",
       "    <tr>\n",
       "      <th>13162</th>\n",
       "      <td>FRANCISCAN ST FRANCIS HEALTH - MOORESVILLE</td>\n",
       "      <td>150057</td>\n",
       "      <td>IN</td>\n",
       "      <td>READM-30-HIP-KNEE-HRRP</td>\n",
       "      <td>1845</td>\n",
       "      <td>NaN</td>\n",
       "      <td>0.8561</td>\n",
       "      <td>4.4</td>\n",
       "      <td>5.1</td>\n",
       "      <td>78</td>\n",
       "      <td>07/01/2010</td>\n",
       "      <td>06/30/2013</td>\n",
       "    </tr>\n",
       "    <tr>\n",
       "      <th>5852</th>\n",
       "      <td>ANNE ARUNDEL MEDICAL CENTER</td>\n",
       "      <td>210023</td>\n",
       "      <td>MD</td>\n",
       "      <td>READM-30-HIP-KNEE-HRRP</td>\n",
       "      <td>1849</td>\n",
       "      <td>NaN</td>\n",
       "      <td>1.0120</td>\n",
       "      <td>4.8</td>\n",
       "      <td>4.7</td>\n",
       "      <td>89</td>\n",
       "      <td>07/01/2010</td>\n",
       "      <td>06/30/2013</td>\n",
       "    </tr>\n",
       "    <tr>\n",
       "      <th>13293</th>\n",
       "      <td>SENTARA LEIGH HOSPITAL</td>\n",
       "      <td>490046</td>\n",
       "      <td>VA</td>\n",
       "      <td>READM-30-HIP-KNEE-HRRP</td>\n",
       "      <td>1901</td>\n",
       "      <td>NaN</td>\n",
       "      <td>0.8416</td>\n",
       "      <td>4.2</td>\n",
       "      <td>5.0</td>\n",
       "      <td>77</td>\n",
       "      <td>07/01/2010</td>\n",
       "      <td>06/30/2013</td>\n",
       "    </tr>\n",
       "    <tr>\n",
       "      <th>13647</th>\n",
       "      <td>WASHINGTON HOSPITAL</td>\n",
       "      <td>50195</td>\n",
       "      <td>CA</td>\n",
       "      <td>READM-30-HIP-KNEE-HRRP</td>\n",
       "      <td>1918</td>\n",
       "      <td>NaN</td>\n",
       "      <td>0.7504</td>\n",
       "      <td>3.5</td>\n",
       "      <td>4.7</td>\n",
       "      <td>62</td>\n",
       "      <td>07/01/2010</td>\n",
       "      <td>06/30/2013</td>\n",
       "    </tr>\n",
       "    <tr>\n",
       "      <th>13602</th>\n",
       "      <td>OCALA REGIONAL MEDICAL CENTER</td>\n",
       "      <td>100212</td>\n",
       "      <td>FL</td>\n",
       "      <td>READM-30-HIP-KNEE-HRRP</td>\n",
       "      <td>1951</td>\n",
       "      <td>NaN</td>\n",
       "      <td>0.7747</td>\n",
       "      <td>3.9</td>\n",
       "      <td>5.1</td>\n",
       "      <td>72</td>\n",
       "      <td>07/01/2010</td>\n",
       "      <td>06/30/2013</td>\n",
       "    </tr>\n",
       "    <tr>\n",
       "      <th>13641</th>\n",
       "      <td>EVANSTON HOSPITAL</td>\n",
       "      <td>140010</td>\n",
       "      <td>IL</td>\n",
       "      <td>READM-30-HIP-KNEE-HRRP</td>\n",
       "      <td>1956</td>\n",
       "      <td>NaN</td>\n",
       "      <td>0.7549</td>\n",
       "      <td>4.0</td>\n",
       "      <td>5.3</td>\n",
       "      <td>73</td>\n",
       "      <td>07/01/2010</td>\n",
       "      <td>06/30/2013</td>\n",
       "    </tr>\n",
       "    <tr>\n",
       "      <th>13616</th>\n",
       "      <td>INOVA MOUNT VERNON HOSPITAL</td>\n",
       "      <td>490122</td>\n",
       "      <td>VA</td>\n",
       "      <td>READM-30-HIP-KNEE-HRRP</td>\n",
       "      <td>1957</td>\n",
       "      <td>NaN</td>\n",
       "      <td>0.7676</td>\n",
       "      <td>3.6</td>\n",
       "      <td>4.6</td>\n",
       "      <td>65</td>\n",
       "      <td>07/01/2010</td>\n",
       "      <td>06/30/2013</td>\n",
       "    </tr>\n",
       "    <tr>\n",
       "      <th>12526</th>\n",
       "      <td>CENTRAL DUPAGE HOSPITAL</td>\n",
       "      <td>140242</td>\n",
       "      <td>IL</td>\n",
       "      <td>READM-30-HIP-KNEE-HRRP</td>\n",
       "      <td>1974</td>\n",
       "      <td>NaN</td>\n",
       "      <td>0.8943</td>\n",
       "      <td>4.4</td>\n",
       "      <td>4.9</td>\n",
       "      <td>85</td>\n",
       "      <td>07/01/2010</td>\n",
       "      <td>06/30/2013</td>\n",
       "    </tr>\n",
       "    <tr>\n",
       "      <th>13577</th>\n",
       "      <td>IOWA METHODIST MEDICAL CENTER</td>\n",
       "      <td>160082</td>\n",
       "      <td>IA</td>\n",
       "      <td>READM-30-HIP-KNEE-HRRP</td>\n",
       "      <td>1975</td>\n",
       "      <td>NaN</td>\n",
       "      <td>0.7812</td>\n",
       "      <td>3.7</td>\n",
       "      <td>4.8</td>\n",
       "      <td>69</td>\n",
       "      <td>07/01/2010</td>\n",
       "      <td>06/30/2013</td>\n",
       "    </tr>\n",
       "    <tr>\n",
       "      <th>10370</th>\n",
       "      <td>MEMORIAL MISSION HOSPITAL AND ASHEVILLE SURGER...</td>\n",
       "      <td>340002</td>\n",
       "      <td>NC</td>\n",
       "      <td>READM-30-HIP-KNEE-HRRP</td>\n",
       "      <td>2011</td>\n",
       "      <td>NaN</td>\n",
       "      <td>0.9485</td>\n",
       "      <td>4.4</td>\n",
       "      <td>4.7</td>\n",
       "      <td>88</td>\n",
       "      <td>07/01/2010</td>\n",
       "      <td>06/30/2013</td>\n",
       "    </tr>\n",
       "    <tr>\n",
       "      <th>7147</th>\n",
       "      <td>MORRISTOWN MEDICAL CENTER</td>\n",
       "      <td>310015</td>\n",
       "      <td>NJ</td>\n",
       "      <td>READM-30-HIP-KNEE-HRRP</td>\n",
       "      <td>2042</td>\n",
       "      <td>NaN</td>\n",
       "      <td>0.9935</td>\n",
       "      <td>5.1</td>\n",
       "      <td>5.1</td>\n",
       "      <td>104</td>\n",
       "      <td>07/01/2010</td>\n",
       "      <td>06/30/2013</td>\n",
       "    </tr>\n",
       "    <tr>\n",
       "      <th>13326</th>\n",
       "      <td>SWEDISH MEDICAL CENTER</td>\n",
       "      <td>500027</td>\n",
       "      <td>WA</td>\n",
       "      <td>READM-30-HIP-KNEE-HRRP</td>\n",
       "      <td>2089</td>\n",
       "      <td>NaN</td>\n",
       "      <td>0.8384</td>\n",
       "      <td>3.7</td>\n",
       "      <td>4.5</td>\n",
       "      <td>75</td>\n",
       "      <td>07/01/2010</td>\n",
       "      <td>06/30/2013</td>\n",
       "    </tr>\n",
       "    <tr>\n",
       "      <th>7872</th>\n",
       "      <td>ST FRANCIS HOSPITAL &amp; MEDICAL CENTER</td>\n",
       "      <td>70002</td>\n",
       "      <td>CT</td>\n",
       "      <td>READM-30-HIP-KNEE-HRRP</td>\n",
       "      <td>2106</td>\n",
       "      <td>NaN</td>\n",
       "      <td>0.9839</td>\n",
       "      <td>5.0</td>\n",
       "      <td>5.0</td>\n",
       "      <td>104</td>\n",
       "      <td>07/01/2010</td>\n",
       "      <td>06/30/2013</td>\n",
       "    </tr>\n",
       "    <tr>\n",
       "      <th>13723</th>\n",
       "      <td>PROVIDENCE SAINT JOHN'S HEALTH CENTER</td>\n",
       "      <td>50290</td>\n",
       "      <td>CA</td>\n",
       "      <td>READM-30-HIP-KNEE-HRRP</td>\n",
       "      <td>2189</td>\n",
       "      <td>NaN</td>\n",
       "      <td>0.6350</td>\n",
       "      <td>3.2</td>\n",
       "      <td>5.1</td>\n",
       "      <td>63</td>\n",
       "      <td>07/01/2010</td>\n",
       "      <td>06/30/2013</td>\n",
       "    </tr>\n",
       "    <tr>\n",
       "      <th>12910</th>\n",
       "      <td>BAPTIST HEALTH LOUISVILLE</td>\n",
       "      <td>180130</td>\n",
       "      <td>KY</td>\n",
       "      <td>READM-30-HIP-KNEE-HRRP</td>\n",
       "      <td>2196</td>\n",
       "      <td>NaN</td>\n",
       "      <td>0.8747</td>\n",
       "      <td>4.3</td>\n",
       "      <td>4.9</td>\n",
       "      <td>92</td>\n",
       "      <td>07/01/2010</td>\n",
       "      <td>06/30/2013</td>\n",
       "    </tr>\n",
       "    <tr>\n",
       "      <th>2758</th>\n",
       "      <td>LEE MEMORIAL HOSPITAL</td>\n",
       "      <td>100012</td>\n",
       "      <td>FL</td>\n",
       "      <td>READM-30-HIP-KNEE-HRRP</td>\n",
       "      <td>2198</td>\n",
       "      <td>NaN</td>\n",
       "      <td>1.0663</td>\n",
       "      <td>5.5</td>\n",
       "      <td>5.2</td>\n",
       "      <td>122</td>\n",
       "      <td>07/01/2010</td>\n",
       "      <td>06/30/2013</td>\n",
       "    </tr>\n",
       "    <tr>\n",
       "      <th>7934</th>\n",
       "      <td>CAROLINAS MEDICAL  CENTER-PINEVILLE</td>\n",
       "      <td>340098</td>\n",
       "      <td>NC</td>\n",
       "      <td>READM-30-HIP-KNEE-HRRP</td>\n",
       "      <td>2209</td>\n",
       "      <td>NaN</td>\n",
       "      <td>0.9831</td>\n",
       "      <td>4.4</td>\n",
       "      <td>4.5</td>\n",
       "      <td>97</td>\n",
       "      <td>07/01/2010</td>\n",
       "      <td>06/30/2013</td>\n",
       "    </tr>\n",
       "    <tr>\n",
       "      <th>1448</th>\n",
       "      <td>NEW HANOVER REGIONAL MEDICAL CENTER</td>\n",
       "      <td>340141</td>\n",
       "      <td>NC</td>\n",
       "      <td>READM-30-HIP-KNEE-HRRP</td>\n",
       "      <td>2318</td>\n",
       "      <td>NaN</td>\n",
       "      <td>1.1055</td>\n",
       "      <td>5.5</td>\n",
       "      <td>5.0</td>\n",
       "      <td>129</td>\n",
       "      <td>07/01/2010</td>\n",
       "      <td>06/30/2013</td>\n",
       "    </tr>\n",
       "    <tr>\n",
       "      <th>2846</th>\n",
       "      <td>CHRISTIANA CARE HEALTH SERVICES, INC.</td>\n",
       "      <td>80001</td>\n",
       "      <td>DE</td>\n",
       "      <td>READM-30-HIP-KNEE-HRRP</td>\n",
       "      <td>2341</td>\n",
       "      <td>NaN</td>\n",
       "      <td>1.0647</td>\n",
       "      <td>5.5</td>\n",
       "      <td>5.1</td>\n",
       "      <td>129</td>\n",
       "      <td>07/01/2010</td>\n",
       "      <td>06/30/2013</td>\n",
       "    </tr>\n",
       "    <tr>\n",
       "      <th>13730</th>\n",
       "      <td>HOAG ORTHOPEDIC INSTITUTE</td>\n",
       "      <td>50769</td>\n",
       "      <td>CA</td>\n",
       "      <td>READM-30-HIP-KNEE-HRRP</td>\n",
       "      <td>2393</td>\n",
       "      <td>NaN</td>\n",
       "      <td>0.5495</td>\n",
       "      <td>2.7</td>\n",
       "      <td>4.9</td>\n",
       "      <td>54</td>\n",
       "      <td>07/01/2010</td>\n",
       "      <td>06/30/2013</td>\n",
       "    </tr>\n",
       "    <tr>\n",
       "      <th>11545</th>\n",
       "      <td>MCBRIDE CLINIC ORTHOPEDIC HOSPITAL,  L L C</td>\n",
       "      <td>370222</td>\n",
       "      <td>OK</td>\n",
       "      <td>READM-30-HIP-KNEE-HRRP</td>\n",
       "      <td>2469</td>\n",
       "      <td>NaN</td>\n",
       "      <td>0.9248</td>\n",
       "      <td>4.5</td>\n",
       "      <td>4.9</td>\n",
       "      <td>110</td>\n",
       "      <td>07/01/2010</td>\n",
       "      <td>06/30/2013</td>\n",
       "    </tr>\n",
       "    <tr>\n",
       "      <th>136</th>\n",
       "      <td>BEAUMONT HOSPITAL, ROYAL OAK</td>\n",
       "      <td>230130</td>\n",
       "      <td>MI</td>\n",
       "      <td>READM-30-HIP-KNEE-HRRP</td>\n",
       "      <td>2581</td>\n",
       "      <td>NaN</td>\n",
       "      <td>1.2577</td>\n",
       "      <td>7.5</td>\n",
       "      <td>5.9</td>\n",
       "      <td>197</td>\n",
       "      <td>07/01/2010</td>\n",
       "      <td>06/30/2013</td>\n",
       "    </tr>\n",
       "    <tr>\n",
       "      <th>1698</th>\n",
       "      <td>FLORIDA HOSPITAL</td>\n",
       "      <td>100007</td>\n",
       "      <td>FL</td>\n",
       "      <td>READM-30-HIP-KNEE-HRRP</td>\n",
       "      <td>2596</td>\n",
       "      <td>NaN</td>\n",
       "      <td>1.0962</td>\n",
       "      <td>5.6</td>\n",
       "      <td>5.1</td>\n",
       "      <td>147</td>\n",
       "      <td>07/01/2010</td>\n",
       "      <td>06/30/2013</td>\n",
       "    </tr>\n",
       "    <tr>\n",
       "      <th>8126</th>\n",
       "      <td>NAPLES COMMUNITY HOSPITAL</td>\n",
       "      <td>100018</td>\n",
       "      <td>FL</td>\n",
       "      <td>READM-30-HIP-KNEE-HRRP</td>\n",
       "      <td>2716</td>\n",
       "      <td>NaN</td>\n",
       "      <td>0.9804</td>\n",
       "      <td>5.2</td>\n",
       "      <td>5.3</td>\n",
       "      <td>141</td>\n",
       "      <td>07/01/2010</td>\n",
       "      <td>06/30/2013</td>\n",
       "    </tr>\n",
       "  </tbody>\n",
       "</table>\n",
       "<p>141 rows × 12 columns</p>\n",
       "</div>"
      ],
      "text/plain": [
       "                                           Hospital Name  Provider Number  \\\n",
       "821                   CRITTENTON HOSPITAL MEDICAL CENTER           230254   \n",
       "12428                         NORTH KANSAS CITY HOSPITAL           260096   \n",
       "13032                               BEEBE MEDICAL CENTER            80007   \n",
       "13285   UNIVERSITY COLO HEALTH MEMORIAL HOSPITAL CENTRAL            60022   \n",
       "13674                          EISENHOWER MEDICAL CENTER            50573   \n",
       "12801    FRANCISCAN ST ELIZABETH HEALTH - LAFAYETTE EAST           150109   \n",
       "13727                            SUTTER GENERAL HOSPITAL            50108   \n",
       "398                             MERCY MEDICAL CENTER INC           210008   \n",
       "1486                                   PIEDMONT HOSPITAL           110083   \n",
       "13436                                     MERCY HOSPITAL           160029   \n",
       "2470     PHYSICIANS REGIONAL MEDICAL CENTER - PINE RIDGE           100286   \n",
       "11403               NOVANT HEALTH FORSYTH MEDICAL CENTER           340014   \n",
       "13312                               MAYO CLINIC HOSPITAL            30103   \n",
       "13352               SAINT JOSEPH REGIONAL MEDICAL CENTER           150012   \n",
       "1046                 ST VINCENT INFIRMARY MEDICAL CENTER            40007   \n",
       "12903                                 TENNOVA HEALTHCARE           440120   \n",
       "7517            CENTURA HEALTH-PORTER ADVENTIST HOSPITAL            60064   \n",
       "13482               ST ALPHONSUS REGIONAL MEDICAL CENTER           130007   \n",
       "1250                            SIBLEY MEMORIAL HOSPITAL            90005   \n",
       "8696               NORTHEAST GEORGIA MEDICAL CENTER, INC           110029   \n",
       "7296                                     CHRIST HOSPITAL           360163   \n",
       "10007  CENTURA HEALTH-PENROSE ST FRANCIS HEALTH SERVICES            60031   \n",
       "403                        DIXIE REGIONAL MEDICAL CENTER           460021   \n",
       "8898          ST ROSE DOMINICAN HOSPITALS - SIENA CAMPUS           290045   \n",
       "9579                        BRIGHAM AND WOMEN'S HOSPITAL           220110   \n",
       "12818                                        MAYO CLINIC           100151   \n",
       "3605                               MUNSON MEDICAL CENTER           230097   \n",
       "10551                       NORTHWEST COMMUNITY HOSPITAL           140252   \n",
       "13704             PROVIDENCE SACRED HEART MEDICAL CENTER           500054   \n",
       "13244              NORTH FLORIDA REGIONAL MEDICAL CENTER           100204   \n",
       "...                                                  ...              ...   \n",
       "1660                              BAPTIST MEDICAL CENTER           450058   \n",
       "12828                 PLAZA MEDICAL CENTER OF FORT WORTH           450672   \n",
       "13636                         ARKANSAS SURGICAL HOSPITAL            40147   \n",
       "13675                         SAINT THOMAS WEST HOSPITAL           440082   \n",
       "13708                             POUDRE VALLEY HOSPITAL            60010   \n",
       "6728                            MARY IMMACULATE HOSPITAL           490041   \n",
       "13162         FRANCISCAN ST FRANCIS HEALTH - MOORESVILLE           150057   \n",
       "5852                         ANNE ARUNDEL MEDICAL CENTER           210023   \n",
       "13293                             SENTARA LEIGH HOSPITAL           490046   \n",
       "13647                                WASHINGTON HOSPITAL            50195   \n",
       "13602                      OCALA REGIONAL MEDICAL CENTER           100212   \n",
       "13641                                  EVANSTON HOSPITAL           140010   \n",
       "13616                        INOVA MOUNT VERNON HOSPITAL           490122   \n",
       "12526                            CENTRAL DUPAGE HOSPITAL           140242   \n",
       "13577                      IOWA METHODIST MEDICAL CENTER           160082   \n",
       "10370  MEMORIAL MISSION HOSPITAL AND ASHEVILLE SURGER...           340002   \n",
       "7147                           MORRISTOWN MEDICAL CENTER           310015   \n",
       "13326                             SWEDISH MEDICAL CENTER           500027   \n",
       "7872                ST FRANCIS HOSPITAL & MEDICAL CENTER            70002   \n",
       "13723              PROVIDENCE SAINT JOHN'S HEALTH CENTER            50290   \n",
       "12910                          BAPTIST HEALTH LOUISVILLE           180130   \n",
       "2758                               LEE MEMORIAL HOSPITAL           100012   \n",
       "7934                 CAROLINAS MEDICAL  CENTER-PINEVILLE           340098   \n",
       "1448                 NEW HANOVER REGIONAL MEDICAL CENTER           340141   \n",
       "2846               CHRISTIANA CARE HEALTH SERVICES, INC.            80001   \n",
       "13730                          HOAG ORTHOPEDIC INSTITUTE            50769   \n",
       "11545         MCBRIDE CLINIC ORTHOPEDIC HOSPITAL,  L L C           370222   \n",
       "136                         BEAUMONT HOSPITAL, ROYAL OAK           230130   \n",
       "1698                                    FLORIDA HOSPITAL           100007   \n",
       "8126                           NAPLES COMMUNITY HOSPITAL           100018   \n",
       "\n",
       "      State            Measure Name  Number of Discharges  Footnote  \\\n",
       "821      MI  READM-30-HIP-KNEE-HRRP                  1004       NaN   \n",
       "12428    MO  READM-30-HIP-KNEE-HRRP                  1010       NaN   \n",
       "13032    DE  READM-30-HIP-KNEE-HRRP                  1017       NaN   \n",
       "13285    CO  READM-30-HIP-KNEE-HRRP                  1023       NaN   \n",
       "13674    CA  READM-30-HIP-KNEE-HRRP                  1023       NaN   \n",
       "12801    IN  READM-30-HIP-KNEE-HRRP                  1031       NaN   \n",
       "13727    CA  READM-30-HIP-KNEE-HRRP                  1032       NaN   \n",
       "398      MD  READM-30-HIP-KNEE-HRRP                  1037       NaN   \n",
       "1486     GA  READM-30-HIP-KNEE-HRRP                  1040       NaN   \n",
       "13436    IA  READM-30-HIP-KNEE-HRRP                  1045       NaN   \n",
       "2470     FL  READM-30-HIP-KNEE-HRRP                  1049       NaN   \n",
       "11403    NC  READM-30-HIP-KNEE-HRRP                  1053       NaN   \n",
       "13312    AZ  READM-30-HIP-KNEE-HRRP                  1056       NaN   \n",
       "13352    IN  READM-30-HIP-KNEE-HRRP                  1061       NaN   \n",
       "1046     AR  READM-30-HIP-KNEE-HRRP                  1061       NaN   \n",
       "12903    TN  READM-30-HIP-KNEE-HRRP                  1066       NaN   \n",
       "7517     CO  READM-30-HIP-KNEE-HRRP                  1068       NaN   \n",
       "13482    ID  READM-30-HIP-KNEE-HRRP                  1069       NaN   \n",
       "1250     DC  READM-30-HIP-KNEE-HRRP                  1070       NaN   \n",
       "8696     GA  READM-30-HIP-KNEE-HRRP                  1075       NaN   \n",
       "7296     OH  READM-30-HIP-KNEE-HRRP                  1075       NaN   \n",
       "10007    CO  READM-30-HIP-KNEE-HRRP                  1076       NaN   \n",
       "403      UT  READM-30-HIP-KNEE-HRRP                  1091       NaN   \n",
       "8898     NV  READM-30-HIP-KNEE-HRRP                  1097       NaN   \n",
       "9579     MA  READM-30-HIP-KNEE-HRRP                  1100       NaN   \n",
       "12818    FL  READM-30-HIP-KNEE-HRRP                  1112       NaN   \n",
       "3605     MI  READM-30-HIP-KNEE-HRRP                  1112       NaN   \n",
       "10551    IL  READM-30-HIP-KNEE-HRRP                  1113       NaN   \n",
       "13704    WA  READM-30-HIP-KNEE-HRRP                  1116       NaN   \n",
       "13244    FL  READM-30-HIP-KNEE-HRRP                  1126       NaN   \n",
       "...     ...                     ...                   ...       ...   \n",
       "1660     TX  READM-30-HIP-KNEE-HRRP                  1766       NaN   \n",
       "12828    TX  READM-30-HIP-KNEE-HRRP                  1773       NaN   \n",
       "13636    AR  READM-30-HIP-KNEE-HRRP                  1779       NaN   \n",
       "13675    TN  READM-30-HIP-KNEE-HRRP                  1815       NaN   \n",
       "13708    CO  READM-30-HIP-KNEE-HRRP                  1817       NaN   \n",
       "6728     VA  READM-30-HIP-KNEE-HRRP                  1822       NaN   \n",
       "13162    IN  READM-30-HIP-KNEE-HRRP                  1845       NaN   \n",
       "5852     MD  READM-30-HIP-KNEE-HRRP                  1849       NaN   \n",
       "13293    VA  READM-30-HIP-KNEE-HRRP                  1901       NaN   \n",
       "13647    CA  READM-30-HIP-KNEE-HRRP                  1918       NaN   \n",
       "13602    FL  READM-30-HIP-KNEE-HRRP                  1951       NaN   \n",
       "13641    IL  READM-30-HIP-KNEE-HRRP                  1956       NaN   \n",
       "13616    VA  READM-30-HIP-KNEE-HRRP                  1957       NaN   \n",
       "12526    IL  READM-30-HIP-KNEE-HRRP                  1974       NaN   \n",
       "13577    IA  READM-30-HIP-KNEE-HRRP                  1975       NaN   \n",
       "10370    NC  READM-30-HIP-KNEE-HRRP                  2011       NaN   \n",
       "7147     NJ  READM-30-HIP-KNEE-HRRP                  2042       NaN   \n",
       "13326    WA  READM-30-HIP-KNEE-HRRP                  2089       NaN   \n",
       "7872     CT  READM-30-HIP-KNEE-HRRP                  2106       NaN   \n",
       "13723    CA  READM-30-HIP-KNEE-HRRP                  2189       NaN   \n",
       "12910    KY  READM-30-HIP-KNEE-HRRP                  2196       NaN   \n",
       "2758     FL  READM-30-HIP-KNEE-HRRP                  2198       NaN   \n",
       "7934     NC  READM-30-HIP-KNEE-HRRP                  2209       NaN   \n",
       "1448     NC  READM-30-HIP-KNEE-HRRP                  2318       NaN   \n",
       "2846     DE  READM-30-HIP-KNEE-HRRP                  2341       NaN   \n",
       "13730    CA  READM-30-HIP-KNEE-HRRP                  2393       NaN   \n",
       "11545    OK  READM-30-HIP-KNEE-HRRP                  2469       NaN   \n",
       "136      MI  READM-30-HIP-KNEE-HRRP                  2581       NaN   \n",
       "1698     FL  READM-30-HIP-KNEE-HRRP                  2596       NaN   \n",
       "8126     FL  READM-30-HIP-KNEE-HRRP                  2716       NaN   \n",
       "\n",
       "       Excess Readmission Ratio  Predicted Readmission Rate  \\\n",
       "821                      1.1405                         6.1   \n",
       "12428                    0.8992                         4.5   \n",
       "13032                    0.8670                         4.3   \n",
       "13285                    0.8426                         4.1   \n",
       "13674                    0.7325                         4.2   \n",
       "12801                    0.8812                         4.7   \n",
       "13727                    0.6262                         3.0   \n",
       "398                      1.1874                         5.7   \n",
       "1486                     1.1034                         5.0   \n",
       "13436                    0.8236                         3.9   \n",
       "2470                     1.0730                         5.6   \n",
       "11403                    0.9281                         4.5   \n",
       "13312                    0.8397                         4.3   \n",
       "13352                    0.8349                         4.2   \n",
       "1046                     1.1255                         5.8   \n",
       "12903                    0.8753                         4.3   \n",
       "7517                     0.9884                         4.7   \n",
       "13482                    0.8127                         3.9   \n",
       "1250                     1.1145                         5.2   \n",
       "8696                     0.9731                         4.8   \n",
       "7296                     0.9916                         5.1   \n",
       "10007                    0.9543                         4.5   \n",
       "403                      1.1867                         5.8   \n",
       "8898                     0.9701                         4.7   \n",
       "9579                     0.9609                         5.2   \n",
       "12818                    0.8805                         4.4   \n",
       "3605                     1.0485                         5.2   \n",
       "10551                    0.9453                         4.9   \n",
       "13704                    0.7000                         3.2   \n",
       "13244                    0.8474                         4.4   \n",
       "...                         ...                         ...   \n",
       "1660                     1.0974                         5.5   \n",
       "12828                    0.8801                         4.2   \n",
       "13636                    0.7564                         3.2   \n",
       "13675                    0.7313                         3.8   \n",
       "13708                    0.6987                         3.3   \n",
       "6728                     0.9991                         4.9   \n",
       "13162                    0.8561                         4.4   \n",
       "5852                     1.0120                         4.8   \n",
       "13293                    0.8416                         4.2   \n",
       "13647                    0.7504                         3.5   \n",
       "13602                    0.7747                         3.9   \n",
       "13641                    0.7549                         4.0   \n",
       "13616                    0.7676                         3.6   \n",
       "12526                    0.8943                         4.4   \n",
       "13577                    0.7812                         3.7   \n",
       "10370                    0.9485                         4.4   \n",
       "7147                     0.9935                         5.1   \n",
       "13326                    0.8384                         3.7   \n",
       "7872                     0.9839                         5.0   \n",
       "13723                    0.6350                         3.2   \n",
       "12910                    0.8747                         4.3   \n",
       "2758                     1.0663                         5.5   \n",
       "7934                     0.9831                         4.4   \n",
       "1448                     1.1055                         5.5   \n",
       "2846                     1.0647                         5.5   \n",
       "13730                    0.5495                         2.7   \n",
       "11545                    0.9248                         4.5   \n",
       "136                      1.2577                         7.5   \n",
       "1698                     1.0962                         5.6   \n",
       "8126                     0.9804                         5.2   \n",
       "\n",
       "       Expected Readmission Rate  Number of Readmissions  Start Date  \\\n",
       "821                          5.4                      64  07/01/2010   \n",
       "12428                        5.1                      44  07/01/2010   \n",
       "13032                        4.9                      41  07/01/2010   \n",
       "13285                        4.9                      39  07/01/2010   \n",
       "13674                        5.7                      37  07/01/2010   \n",
       "12801                        5.3                      46  07/01/2010   \n",
       "13727                        4.8                      23  07/01/2010   \n",
       "398                          4.8                      62  07/01/2010   \n",
       "1486                         4.6                      54  07/01/2010   \n",
       "13436                        4.7                      37  07/01/2010   \n",
       "2470                         5.2                      60  07/01/2010   \n",
       "11403                        4.8                      46  07/01/2010   \n",
       "13312                        5.1                      42  07/01/2010   \n",
       "13352                        5.0                      41  07/01/2010   \n",
       "1046                         5.2                      64  07/01/2010   \n",
       "12903                        4.9                      43  07/01/2010   \n",
       "7517                         4.8                      50  07/01/2010   \n",
       "13482                        4.8                      38  07/01/2010   \n",
       "1250                         4.7                      58  07/01/2010   \n",
       "8696                         4.9                      51  07/01/2010   \n",
       "7296                         5.2                      55  07/01/2010   \n",
       "10007                        4.8                      48  07/01/2010   \n",
       "403                          4.9                      66  07/01/2010   \n",
       "8898                         4.8                      51  07/01/2010   \n",
       "9579                         5.4                      56  07/01/2010   \n",
       "12818                        5.0                      47  07/01/2010   \n",
       "3605                         5.0                      59  07/01/2010   \n",
       "10551                        5.2                      54  07/01/2010   \n",
       "13704                        4.6                      30  07/01/2010   \n",
       "13244                        5.2                      47  07/01/2010   \n",
       "...                          ...                     ...         ...   \n",
       "1660                         5.0                      99  07/01/2010   \n",
       "12828                        4.8                      73  07/01/2010   \n",
       "13636                        4.2                      52  07/01/2010   \n",
       "13675                        5.2                      63  07/01/2010   \n",
       "13708                        4.7                      53  07/01/2010   \n",
       "6728                         4.9                      90  07/01/2010   \n",
       "13162                        5.1                      78  07/01/2010   \n",
       "5852                         4.7                      89  07/01/2010   \n",
       "13293                        5.0                      77  07/01/2010   \n",
       "13647                        4.7                      62  07/01/2010   \n",
       "13602                        5.1                      72  07/01/2010   \n",
       "13641                        5.3                      73  07/01/2010   \n",
       "13616                        4.6                      65  07/01/2010   \n",
       "12526                        4.9                      85  07/01/2010   \n",
       "13577                        4.8                      69  07/01/2010   \n",
       "10370                        4.7                      88  07/01/2010   \n",
       "7147                         5.1                     104  07/01/2010   \n",
       "13326                        4.5                      75  07/01/2010   \n",
       "7872                         5.0                     104  07/01/2010   \n",
       "13723                        5.1                      63  07/01/2010   \n",
       "12910                        4.9                      92  07/01/2010   \n",
       "2758                         5.2                     122  07/01/2010   \n",
       "7934                         4.5                      97  07/01/2010   \n",
       "1448                         5.0                     129  07/01/2010   \n",
       "2846                         5.1                     129  07/01/2010   \n",
       "13730                        4.9                      54  07/01/2010   \n",
       "11545                        4.9                     110  07/01/2010   \n",
       "136                          5.9                     197  07/01/2010   \n",
       "1698                         5.1                     147  07/01/2010   \n",
       "8126                         5.3                     141  07/01/2010   \n",
       "\n",
       "         End Date  \n",
       "821    06/30/2013  \n",
       "12428  06/30/2013  \n",
       "13032  06/30/2013  \n",
       "13285  06/30/2013  \n",
       "13674  06/30/2013  \n",
       "12801  06/30/2013  \n",
       "13727  06/30/2013  \n",
       "398    06/30/2013  \n",
       "1486   06/30/2013  \n",
       "13436  06/30/2013  \n",
       "2470   06/30/2013  \n",
       "11403  06/30/2013  \n",
       "13312  06/30/2013  \n",
       "13352  06/30/2013  \n",
       "1046   06/30/2013  \n",
       "12903  06/30/2013  \n",
       "7517   06/30/2013  \n",
       "13482  06/30/2013  \n",
       "1250   06/30/2013  \n",
       "8696   06/30/2013  \n",
       "7296   06/30/2013  \n",
       "10007  06/30/2013  \n",
       "403    06/30/2013  \n",
       "8898   06/30/2013  \n",
       "9579   06/30/2013  \n",
       "12818  06/30/2013  \n",
       "3605   06/30/2013  \n",
       "10551  06/30/2013  \n",
       "13704  06/30/2013  \n",
       "13244  06/30/2013  \n",
       "...           ...  \n",
       "1660   06/30/2013  \n",
       "12828  06/30/2013  \n",
       "13636  06/30/2013  \n",
       "13675  06/30/2013  \n",
       "13708  06/30/2013  \n",
       "6728   06/30/2013  \n",
       "13162  06/30/2013  \n",
       "5852   06/30/2013  \n",
       "13293  06/30/2013  \n",
       "13647  06/30/2013  \n",
       "13602  06/30/2013  \n",
       "13641  06/30/2013  \n",
       "13616  06/30/2013  \n",
       "12526  06/30/2013  \n",
       "13577  06/30/2013  \n",
       "10370  06/30/2013  \n",
       "7147   06/30/2013  \n",
       "13326  06/30/2013  \n",
       "7872   06/30/2013  \n",
       "13723  06/30/2013  \n",
       "12910  06/30/2013  \n",
       "2758   06/30/2013  \n",
       "7934   06/30/2013  \n",
       "1448   06/30/2013  \n",
       "2846   06/30/2013  \n",
       "13730  06/30/2013  \n",
       "11545  06/30/2013  \n",
       "136    06/30/2013  \n",
       "1698   06/30/2013  \n",
       "8126   06/30/2013  \n",
       "\n",
       "[141 rows x 12 columns]"
      ]
     },
     "execution_count": 46,
     "metadata": {},
     "output_type": "execute_result"
    }
   ],
   "source": [
    "hospitals_large[hospitals_large['Expected Readmission Rate']<10]"
   ]
  }
 ],
 "metadata": {
  "kernelspec": {
   "display_name": "Python 3",
   "language": "python",
   "name": "python3"
  },
  "language_info": {
   "codemirror_mode": {
    "name": "ipython",
    "version": 3
   },
   "file_extension": ".py",
   "mimetype": "text/x-python",
   "name": "python",
   "nbconvert_exporter": "python",
   "pygments_lexer": "ipython3",
   "version": "3.5.1"
  }
 },
 "nbformat": 4,
 "nbformat_minor": 0
}
